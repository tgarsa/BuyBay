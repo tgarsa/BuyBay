{
 "cells": [
  {
   "cell_type": "code",
   "execution_count": 1,
   "id": "93fc5b91",
   "metadata": {},
   "outputs": [],
   "source": [
    "import pandas as pd"
   ]
  },
  {
   "cell_type": "code",
   "execution_count": 2,
   "id": "6c744205",
   "metadata": {},
   "outputs": [],
   "source": [
    "# Additional imporets\n",
    "# to have access to the web service\n",
    "import requests\n",
    "# To transforme the timestamps in datetieme\n",
    "from datetime import datetime"
   ]
  },
  {
   "cell_type": "code",
   "execution_count": 3,
   "id": "cd9e4664",
   "metadata": {},
   "outputs": [],
   "source": [
    "# Conect to the API\n",
    "# We need to use our local ip. This would be updated manually.\n",
    "ip = '192.168.178.35'"
   ]
  },
  {
   "cell_type": "markdown",
   "id": "c4463447",
   "metadata": {},
   "source": [
    "## Add secure pass"
   ]
  },
  {
   "cell_type": "code",
   "execution_count": 4,
   "id": "21865a04",
   "metadata": {},
   "outputs": [
    {
     "data": {
      "text/plain": [
       "<Response [200]>"
      ]
     },
     "execution_count": 4,
     "metadata": {},
     "output_type": "execute_result"
    }
   ],
   "source": [
    "# URLs to connected with the app-service\n",
    "url_token = 'http://{}:5000/token'.format(ip)\n",
    "# resp = requests.post(url_token)\n",
    "resp = requests.post(url_token, data={'username': 'tgarsa', 'password':'secret'})\n",
    "# resp = requests.post(url_token, data={'username': 'alice', 'password':'secret'})\n",
    "resp"
   ]
  },
  {
   "cell_type": "code",
   "execution_count": 5,
   "id": "d43402e3",
   "metadata": {},
   "outputs": [],
   "source": [
    "# Recover the token info\n",
    "token = resp.json()['access_token']\n",
    "token_type = resp.json()['token_type']\n",
    "\n",
    "# Build the header\n",
    "headers = {\"Authorization\": \"{} {}\".format(token_type, token)}\n",
    "# headers"
   ]
  },
  {
   "cell_type": "code",
   "execution_count": 6,
   "id": "85eb3eb8",
   "metadata": {},
   "outputs": [],
   "source": [
    "# load dataframe\n",
    "\n",
    "df = pd.read_csv('sold_products.csv', parse_dates = ['created_at', 'shipped_at'])\n",
    "\n",
    "# Adding updated_at time\n",
    "df['updated_at'] = datetime.now() "
   ]
  },
  {
   "cell_type": "code",
   "execution_count": 7,
   "id": "4c7f6261",
   "metadata": {},
   "outputs": [
    {
     "data": {
      "text/plain": [
       "(1681, 10)"
      ]
     },
     "execution_count": 7,
     "metadata": {},
     "output_type": "execute_result"
    }
   ],
   "source": [
    "df.shape"
   ]
  },
  {
   "cell_type": "code",
   "execution_count": 8,
   "id": "a92c96aa",
   "metadata": {},
   "outputs": [
    {
     "data": {
      "text/html": [
       "<div>\n",
       "<style scoped>\n",
       "    .dataframe tbody tr th:only-of-type {\n",
       "        vertical-align: middle;\n",
       "    }\n",
       "\n",
       "    .dataframe tbody tr th {\n",
       "        vertical-align: top;\n",
       "    }\n",
       "\n",
       "    .dataframe thead th {\n",
       "        text-align: right;\n",
       "    }\n",
       "</style>\n",
       "<table border=\"1\" class=\"dataframe\">\n",
       "  <thead>\n",
       "    <tr style=\"text-align: right;\">\n",
       "      <th></th>\n",
       "      <th>license_plate</th>\n",
       "      <th>status</th>\n",
       "      <th>platform</th>\n",
       "      <th>created_at</th>\n",
       "      <th>shipped_at</th>\n",
       "      <th>sold_price</th>\n",
       "      <th>country</th>\n",
       "      <th>channel_ref</th>\n",
       "      <th>platform_fee</th>\n",
       "      <th>updated_at</th>\n",
       "    </tr>\n",
       "  </thead>\n",
       "  <tbody>\n",
       "    <tr>\n",
       "      <th>0</th>\n",
       "      <td>BW221109149982</td>\n",
       "      <td>shipped</td>\n",
       "      <td>Bol</td>\n",
       "      <td>2021-06-28 16:05:57</td>\n",
       "      <td>2021-06-28 20:16:58</td>\n",
       "      <td>29.25</td>\n",
       "      <td>BELGIUM</td>\n",
       "      <td>CB80-D31Q-MVG0</td>\n",
       "      <td>3.65</td>\n",
       "      <td>2023-08-08 11:59:38.007719</td>\n",
       "    </tr>\n",
       "    <tr>\n",
       "      <th>1</th>\n",
       "      <td>BW221109149966</td>\n",
       "      <td>shipped</td>\n",
       "      <td>Bva NL</td>\n",
       "      <td>2021-11-08 07:18:27</td>\n",
       "      <td>2021-11-09 16:11:00</td>\n",
       "      <td>128.70</td>\n",
       "      <td>NETHERLANDS</td>\n",
       "      <td>cdf03a42-88ed-46ac-2725-08d99c9b50a2</td>\n",
       "      <td>NaN</td>\n",
       "      <td>2023-08-08 11:59:38.007719</td>\n",
       "    </tr>\n",
       "    <tr>\n",
       "      <th>2</th>\n",
       "      <td>BW221109149935</td>\n",
       "      <td>shipped</td>\n",
       "      <td>Bol</td>\n",
       "      <td>2021-08-20 09:32:30</td>\n",
       "      <td>2021-08-20 19:45:41</td>\n",
       "      <td>47.34</td>\n",
       "      <td>NETHERLANDS</td>\n",
       "      <td>840U-CEVP-QYX7</td>\n",
       "      <td>9.59</td>\n",
       "      <td>2023-08-08 11:59:38.007719</td>\n",
       "    </tr>\n",
       "    <tr>\n",
       "      <th>3</th>\n",
       "      <td>BW221109149920</td>\n",
       "      <td>shipped</td>\n",
       "      <td>Bva NL</td>\n",
       "      <td>2021-09-06 09:52:13</td>\n",
       "      <td>2021-09-06 12:20:49</td>\n",
       "      <td>18.72</td>\n",
       "      <td>NETHERLANDS</td>\n",
       "      <td>f28f6374-1ad8-4e9c-d829-08d96ca6598d</td>\n",
       "      <td>NaN</td>\n",
       "      <td>2023-08-08 11:59:38.007719</td>\n",
       "    </tr>\n",
       "    <tr>\n",
       "      <th>4</th>\n",
       "      <td>BW221109149848</td>\n",
       "      <td>shipped</td>\n",
       "      <td>Bol</td>\n",
       "      <td>2021-08-11 16:53:54</td>\n",
       "      <td>2021-08-11 17:50:30</td>\n",
       "      <td>306.66</td>\n",
       "      <td>BELGIUM</td>\n",
       "      <td>LAHT-EDVD-U92Q</td>\n",
       "      <td>25.26</td>\n",
       "      <td>2023-08-08 11:59:38.007719</td>\n",
       "    </tr>\n",
       "  </tbody>\n",
       "</table>\n",
       "</div>"
      ],
      "text/plain": [
       "    license_plate   status platform          created_at          shipped_at  \\\n",
       "0  BW221109149982  shipped      Bol 2021-06-28 16:05:57 2021-06-28 20:16:58   \n",
       "1  BW221109149966  shipped   Bva NL 2021-11-08 07:18:27 2021-11-09 16:11:00   \n",
       "2  BW221109149935  shipped      Bol 2021-08-20 09:32:30 2021-08-20 19:45:41   \n",
       "3  BW221109149920  shipped   Bva NL 2021-09-06 09:52:13 2021-09-06 12:20:49   \n",
       "4  BW221109149848  shipped      Bol 2021-08-11 16:53:54 2021-08-11 17:50:30   \n",
       "\n",
       "   sold_price      country                           channel_ref  \\\n",
       "0       29.25      BELGIUM                        CB80-D31Q-MVG0   \n",
       "1      128.70  NETHERLANDS  cdf03a42-88ed-46ac-2725-08d99c9b50a2   \n",
       "2       47.34  NETHERLANDS                        840U-CEVP-QYX7   \n",
       "3       18.72  NETHERLANDS  f28f6374-1ad8-4e9c-d829-08d96ca6598d   \n",
       "4      306.66      BELGIUM                        LAHT-EDVD-U92Q   \n",
       "\n",
       "   platform_fee                 updated_at  \n",
       "0          3.65 2023-08-08 11:59:38.007719  \n",
       "1           NaN 2023-08-08 11:59:38.007719  \n",
       "2          9.59 2023-08-08 11:59:38.007719  \n",
       "3           NaN 2023-08-08 11:59:38.007719  \n",
       "4         25.26 2023-08-08 11:59:38.007719  "
      ]
     },
     "execution_count": 8,
     "metadata": {},
     "output_type": "execute_result"
    }
   ],
   "source": [
    "df.head()"
   ]
  },
  {
   "cell_type": "code",
   "execution_count": 9,
   "id": "fde03442",
   "metadata": {},
   "outputs": [],
   "source": [
    "# URLs to connected with the app-service\n",
    "url = 'http://{}:5000/load_products'.format(ip)"
   ]
  },
  {
   "cell_type": "code",
   "execution_count": 10,
   "id": "8229f886",
   "metadata": {},
   "outputs": [],
   "source": [
    "resp = requests.post(url,  \n",
    "                     json={'df_json': df.to_json()}, \n",
    "                     headers=headers)"
   ]
  },
  {
   "cell_type": "code",
   "execution_count": 11,
   "id": "fc877c46",
   "metadata": {},
   "outputs": [
    {
     "data": {
      "text/plain": [
       "<Response [200]>"
      ]
     },
     "execution_count": 11,
     "metadata": {},
     "output_type": "execute_result"
    }
   ],
   "source": [
    "resp"
   ]
  },
  {
   "cell_type": "code",
   "execution_count": 12,
   "id": "86ce768b",
   "metadata": {},
   "outputs": [
    {
     "data": {
      "text/plain": [
       "{'label': 'It done'}"
      ]
     },
     "execution_count": 12,
     "metadata": {},
     "output_type": "execute_result"
    }
   ],
   "source": [
    "resp.json()"
   ]
  },
  {
   "cell_type": "code",
   "execution_count": 13,
   "id": "753bc3fb",
   "metadata": {
    "scrolled": true
   },
   "outputs": [
    {
     "data": {
      "text/plain": [
       "'It done'"
      ]
     },
     "execution_count": 13,
     "metadata": {},
     "output_type": "execute_result"
    }
   ],
   "source": [
    "resp.json()['label']"
   ]
  }
 ],
 "metadata": {
  "kernelspec": {
   "display_name": "Python 3 (ipykernel)",
   "language": "python",
   "name": "python3"
  },
  "language_info": {
   "codemirror_mode": {
    "name": "ipython",
    "version": 3
   },
   "file_extension": ".py",
   "mimetype": "text/x-python",
   "name": "python",
   "nbconvert_exporter": "python",
   "pygments_lexer": "ipython3",
   "version": "3.9.12"
  }
 },
 "nbformat": 4,
 "nbformat_minor": 5
}
