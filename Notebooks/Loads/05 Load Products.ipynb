{
 "cells": [
  {
   "cell_type": "code",
   "execution_count": null,
   "id": "93fc5b91",
   "metadata": {},
   "outputs": [],
   "source": [
    "import pandas as pd"
   ]
  },
  {
   "cell_type": "code",
   "execution_count": null,
   "id": "6c744205",
   "metadata": {},
   "outputs": [],
   "source": [
    "# Additional imporets\n",
    "# to have access to the web service\n",
    "import requests\n",
    "# To transforme the timestamps in datetieme\n",
    "from datetime import datetime"
   ]
  },
  {
   "cell_type": "code",
   "execution_count": null,
   "id": "cd9e4664",
   "metadata": {},
   "outputs": [],
   "source": [
    "# Conect to the API\n",
    "# We need to use our local ip. This would be updated manually.\n",
    "# Mac ip\n",
    "# ip = \"192.168.178.35\"\n",
    "# Raspberry pi 3 IP\n",
    "# ip = \"\"\n",
    "# Raspberri pi 4 ip\n",
    "ip = \"192.168.178.189\""
   ]
  },
  {
   "cell_type": "code",
   "execution_count": null,
   "id": "85eb3eb8",
   "metadata": {},
   "outputs": [],
   "source": [
    "# load dataframe\n",
    "\n",
    "df = pd.read_csv('sold_products.csv', parse_dates = ['created_at', 'shipped_at'])\n",
    "\n",
    "# Adding updated_at time\n",
    "df['updated_at'] = datetime.now() "
   ]
  },
  {
   "cell_type": "code",
   "execution_count": null,
   "id": "4c7f6261",
   "metadata": {},
   "outputs": [],
   "source": [
    "df.shape"
   ]
  },
  {
   "cell_type": "code",
   "execution_count": null,
   "id": "a92c96aa",
   "metadata": {},
   "outputs": [],
   "source": [
    "df.head()"
   ]
  },
  {
   "cell_type": "code",
   "execution_count": null,
   "id": "fde03442",
   "metadata": {},
   "outputs": [],
   "source": [
    "# URLs to connected with the app-service\n",
    "url = 'http://{}:5000/load_products'.format(ip)"
   ]
  },
  {
   "cell_type": "code",
   "execution_count": null,
   "id": "8229f886",
   "metadata": {},
   "outputs": [],
   "source": [
    "resp = requests.post(url,  \n",
    "                     json={'df_json': df.to_json()})"
   ]
  },
  {
   "cell_type": "code",
   "execution_count": null,
   "id": "fc877c46",
   "metadata": {},
   "outputs": [],
   "source": [
    "resp"
   ]
  },
  {
   "cell_type": "code",
   "execution_count": null,
   "id": "86ce768b",
   "metadata": {},
   "outputs": [],
   "source": [
    "resp.json()"
   ]
  },
  {
   "cell_type": "code",
   "execution_count": null,
   "id": "753bc3fb",
   "metadata": {
    "scrolled": true
   },
   "outputs": [],
   "source": [
    "resp.json()['label']"
   ]
  }
 ],
 "metadata": {
  "kernelspec": {
   "display_name": "Python 3 (ipykernel)",
   "language": "python",
   "name": "python3"
  },
  "language_info": {
   "codemirror_mode": {
    "name": "ipython",
    "version": 3
   },
   "file_extension": ".py",
   "mimetype": "text/x-python",
   "name": "python",
   "nbconvert_exporter": "python",
   "pygments_lexer": "ipython3",
   "version": "3.9.12"
  }
 },
 "nbformat": 4,
 "nbformat_minor": 5
}
