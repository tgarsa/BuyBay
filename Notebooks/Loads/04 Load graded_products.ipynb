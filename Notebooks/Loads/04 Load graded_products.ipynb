{
 "cells": [
  {
   "cell_type": "code",
   "execution_count": 1,
   "id": "1fc2d11d",
   "metadata": {},
   "outputs": [],
   "source": [
    "import pandas as pd"
   ]
  },
  {
   "cell_type": "code",
   "execution_count": 2,
   "id": "99342f86",
   "metadata": {},
   "outputs": [],
   "source": [
    "# Additional imporets\n",
    "# to have access to the web service\n",
    "import requests\n",
    "# To transforme the timestamps in datetieme\n",
    "from datetime import datetime"
   ]
  },
  {
   "cell_type": "code",
   "execution_count": 3,
   "id": "c07ddbb6",
   "metadata": {},
   "outputs": [],
   "source": [
    "# Conect to the API\n",
    "# We need to use our local ip. This would be updated manually.\n",
    "ip = '192.168.178.35'"
   ]
  },
  {
   "cell_type": "markdown",
   "id": "eadcdbe8",
   "metadata": {},
   "source": [
    "## Add secure pass"
   ]
  },
  {
   "cell_type": "code",
   "execution_count": 4,
   "id": "89abee25",
   "metadata": {},
   "outputs": [
    {
     "data": {
      "text/plain": [
       "<Response [200]>"
      ]
     },
     "execution_count": 4,
     "metadata": {},
     "output_type": "execute_result"
    }
   ],
   "source": [
    "# URLs to connected with the app-service\n",
    "url_token = 'http://{}:5000/token'.format(ip)\n",
    "# resp = requests.post(url_token)\n",
    "resp = requests.post(url_token, data={'username': 'tgarsa', 'password':'secret'})\n",
    "# resp = requests.post(url_token, data={'username': 'alice', 'password':'secret'})\n",
    "resp"
   ]
  },
  {
   "cell_type": "code",
   "execution_count": 5,
   "id": "fcbc6be8",
   "metadata": {},
   "outputs": [],
   "source": [
    "# Recover the token info\n",
    "token = resp.json()['access_token']\n",
    "token_type = resp.json()['token_type']\n",
    "\n",
    "# Build the header\n",
    "headers = {\"Authorization\": \"{} {}\".format(token_type, token)}\n",
    "# headers"
   ]
  },
  {
   "cell_type": "code",
   "execution_count": 6,
   "id": "b4859301",
   "metadata": {},
   "outputs": [],
   "source": [
    "# load dataframe\n",
    "df = pd.read_csv('graded_products.csv')\n",
    "now = datetime.now() \n",
    "df['created_at'] = now\n",
    "df['updated_at'] = now\n",
    "# df['updated_at'] = datetime.now() "
   ]
  },
  {
   "cell_type": "code",
   "execution_count": 7,
   "id": "1a985a22",
   "metadata": {},
   "outputs": [
    {
     "data": {
      "text/plain": [
       "numpy.int64"
      ]
     },
     "execution_count": 7,
     "metadata": {},
     "output_type": "execute_result"
    }
   ],
   "source": [
    "type(df.iloc[0]['grading_time'])"
   ]
  },
  {
   "cell_type": "code",
   "execution_count": 8,
   "id": "49b417e0",
   "metadata": {},
   "outputs": [
    {
     "data": {
      "text/plain": [
       "20"
      ]
     },
     "execution_count": 8,
     "metadata": {},
     "output_type": "execute_result"
    }
   ],
   "source": [
    "df['grading_time'].max()"
   ]
  },
  {
   "cell_type": "code",
   "execution_count": 9,
   "id": "28851029",
   "metadata": {},
   "outputs": [
    {
     "data": {
      "text/plain": [
       "(1681, 5)"
      ]
     },
     "execution_count": 9,
     "metadata": {},
     "output_type": "execute_result"
    }
   ],
   "source": [
    "df.shape"
   ]
  },
  {
   "cell_type": "code",
   "execution_count": 10,
   "id": "e76c2bd6",
   "metadata": {},
   "outputs": [
    {
     "data": {
      "text/html": [
       "<div>\n",
       "<style scoped>\n",
       "    .dataframe tbody tr th:only-of-type {\n",
       "        vertical-align: middle;\n",
       "    }\n",
       "\n",
       "    .dataframe tbody tr th {\n",
       "        vertical-align: top;\n",
       "    }\n",
       "\n",
       "    .dataframe thead th {\n",
       "        text-align: right;\n",
       "    }\n",
       "</style>\n",
       "<table border=\"1\" class=\"dataframe\">\n",
       "  <thead>\n",
       "    <tr style=\"text-align: right;\">\n",
       "      <th></th>\n",
       "      <th>License_plate</th>\n",
       "      <th>grading_cat</th>\n",
       "      <th>grading_time</th>\n",
       "      <th>created_at</th>\n",
       "      <th>updated_at</th>\n",
       "    </tr>\n",
       "  </thead>\n",
       "  <tbody>\n",
       "    <tr>\n",
       "      <th>0</th>\n",
       "      <td>BW221109149982</td>\n",
       "      <td>SL3</td>\n",
       "      <td>19</td>\n",
       "      <td>2023-08-08 02:48:51.685192</td>\n",
       "      <td>2023-08-08 02:48:51.685192</td>\n",
       "    </tr>\n",
       "    <tr>\n",
       "      <th>1</th>\n",
       "      <td>BW221109149966</td>\n",
       "      <td>LF2</td>\n",
       "      <td>7</td>\n",
       "      <td>2023-08-08 02:48:51.685192</td>\n",
       "      <td>2023-08-08 02:48:51.685192</td>\n",
       "    </tr>\n",
       "    <tr>\n",
       "      <th>2</th>\n",
       "      <td>BW221109149935</td>\n",
       "      <td>MF3</td>\n",
       "      <td>3</td>\n",
       "      <td>2023-08-08 02:48:51.685192</td>\n",
       "      <td>2023-08-08 02:48:51.685192</td>\n",
       "    </tr>\n",
       "    <tr>\n",
       "      <th>3</th>\n",
       "      <td>BW221109149920</td>\n",
       "      <td>SL3</td>\n",
       "      <td>3</td>\n",
       "      <td>2023-08-08 02:48:51.685192</td>\n",
       "      <td>2023-08-08 02:48:51.685192</td>\n",
       "    </tr>\n",
       "    <tr>\n",
       "      <th>4</th>\n",
       "      <td>BW221109149848</td>\n",
       "      <td>MN2</td>\n",
       "      <td>3</td>\n",
       "      <td>2023-08-08 02:48:51.685192</td>\n",
       "      <td>2023-08-08 02:48:51.685192</td>\n",
       "    </tr>\n",
       "  </tbody>\n",
       "</table>\n",
       "</div>"
      ],
      "text/plain": [
       "    License_plate grading_cat  grading_time                 created_at  \\\n",
       "0  BW221109149982         SL3            19 2023-08-08 02:48:51.685192   \n",
       "1  BW221109149966         LF2             7 2023-08-08 02:48:51.685192   \n",
       "2  BW221109149935         MF3             3 2023-08-08 02:48:51.685192   \n",
       "3  BW221109149920         SL3             3 2023-08-08 02:48:51.685192   \n",
       "4  BW221109149848         MN2             3 2023-08-08 02:48:51.685192   \n",
       "\n",
       "                  updated_at  \n",
       "0 2023-08-08 02:48:51.685192  \n",
       "1 2023-08-08 02:48:51.685192  \n",
       "2 2023-08-08 02:48:51.685192  \n",
       "3 2023-08-08 02:48:51.685192  \n",
       "4 2023-08-08 02:48:51.685192  "
      ]
     },
     "execution_count": 10,
     "metadata": {},
     "output_type": "execute_result"
    }
   ],
   "source": [
    "df.head()"
   ]
  },
  {
   "cell_type": "code",
   "execution_count": 11,
   "id": "a7e521fc",
   "metadata": {},
   "outputs": [
    {
     "data": {
      "text/plain": [
       "BW221109149982    1\n",
       "BW221109094689    1\n",
       "BW221109093992    1\n",
       "BW221109094022    1\n",
       "BW221109094082    1\n",
       "                 ..\n",
       "BW221109123108    1\n",
       "BW221109123111    1\n",
       "BW221109123203    1\n",
       "BW221109123259    1\n",
       "BW221108201539    1\n",
       "Name: License_plate, Length: 1681, dtype: int64"
      ]
     },
     "execution_count": 11,
     "metadata": {},
     "output_type": "execute_result"
    }
   ],
   "source": [
    "df['License_plate'].value_counts(dropna=False)"
   ]
  },
  {
   "cell_type": "code",
   "execution_count": 12,
   "id": "08ccdbe1",
   "metadata": {},
   "outputs": [],
   "source": [
    "# URLs to connected with the app-service\n",
    "url = 'http://{}:5000/load_graded'.format(ip)"
   ]
  },
  {
   "cell_type": "code",
   "execution_count": 13,
   "id": "cdef1e33",
   "metadata": {},
   "outputs": [],
   "source": [
    "resp = requests.post(url,  \n",
    "                     json={'df_json': df.to_json()}, \n",
    "                     headers=headers)"
   ]
  },
  {
   "cell_type": "code",
   "execution_count": 14,
   "id": "78a2be25",
   "metadata": {},
   "outputs": [
    {
     "data": {
      "text/plain": [
       "<Response [200]>"
      ]
     },
     "execution_count": 14,
     "metadata": {},
     "output_type": "execute_result"
    }
   ],
   "source": [
    "resp"
   ]
  },
  {
   "cell_type": "code",
   "execution_count": 15,
   "id": "f8f57d8f",
   "metadata": {},
   "outputs": [
    {
     "data": {
      "text/plain": [
       "{'label': 'It done'}"
      ]
     },
     "execution_count": 15,
     "metadata": {},
     "output_type": "execute_result"
    }
   ],
   "source": [
    "resp.json()"
   ]
  },
  {
   "cell_type": "code",
   "execution_count": 16,
   "id": "9058a60b",
   "metadata": {
    "scrolled": true
   },
   "outputs": [
    {
     "data": {
      "text/plain": [
       "'It done'"
      ]
     },
     "execution_count": 16,
     "metadata": {},
     "output_type": "execute_result"
    }
   ],
   "source": [
    "resp.json()['label']"
   ]
  }
 ],
 "metadata": {
  "kernelspec": {
   "display_name": "Python 3 (ipykernel)",
   "language": "python",
   "name": "python3"
  },
  "language_info": {
   "codemirror_mode": {
    "name": "ipython",
    "version": 3
   },
   "file_extension": ".py",
   "mimetype": "text/x-python",
   "name": "python",
   "nbconvert_exporter": "python",
   "pygments_lexer": "ipython3",
   "version": "3.9.12"
  }
 },
 "nbformat": 4,
 "nbformat_minor": 5
}
