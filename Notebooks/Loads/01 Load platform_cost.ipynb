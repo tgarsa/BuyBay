{
 "cells": [
  {
   "cell_type": "code",
   "execution_count": null,
   "id": "1fc2d11d",
   "metadata": {},
   "outputs": [],
   "source": [
    "import pandas as pd"
   ]
  },
  {
   "cell_type": "code",
   "execution_count": null,
   "id": "99342f86",
   "metadata": {},
   "outputs": [],
   "source": [
    "# Additional imporets\n",
    "# to have access to the web service\n",
    "import requests\n",
    "# To transforme the timestamps in datetieme\n",
    "from datetime import datetime"
   ]
  },
  {
   "cell_type": "code",
   "execution_count": null,
   "id": "efa085d4",
   "metadata": {},
   "outputs": [],
   "source": [
    "# Conect to the API\n",
    "# We need to use our local ip. This would be updated manually.\n",
    "# Mac ip\n",
    "# ip = \"192.168.178.35\"\n",
    "# Raspberry pi 3 IP\n",
    "# ip = \"\"\n",
    "# Raspberri pi 4 ip\n",
    "ip = \"192.168.178.189\""
   ]
  },
  {
   "cell_type": "markdown",
   "id": "3c8d9b6e",
   "metadata": {},
   "source": [
    "# Define a new data"
   ]
  },
  {
   "cell_type": "code",
   "execution_count": null,
   "id": "d7de0486",
   "metadata": {},
   "outputs": [],
   "source": [
    "data = {}\n",
    "data['platform'] = 'Tgarsa'\n",
    "data['cost'] = 8\n",
    "# now = datetime.now()\n",
    "data['created_at'] = now\n",
    "# data['updated_at'] = now\n",
    "data['updated_at'] = datetime.now()\n",
    "df = pd.DataFrame.from_dict(data, orient='index').transpose()"
   ]
  },
  {
   "cell_type": "code",
   "execution_count": null,
   "id": "f26fe2fb",
   "metadata": {},
   "outputs": [],
   "source": [
    "data"
   ]
  },
  {
   "cell_type": "code",
   "execution_count": null,
   "id": "ebbadd92",
   "metadata": {},
   "outputs": [],
   "source": [
    "df"
   ]
  },
  {
   "cell_type": "code",
   "execution_count": null,
   "id": "08ccdbe1",
   "metadata": {},
   "outputs": [],
   "source": [
    "# URLs to connected with the app-service\n",
    "url = 'http://{}:5000/load_platform_cost'.format(ip)"
   ]
  },
  {
   "cell_type": "code",
   "execution_count": null,
   "id": "cdef1e33",
   "metadata": {},
   "outputs": [],
   "source": [
    "resp = requests.post(url,  \n",
    "                     json={'df_json': df.to_json()})"
   ]
  },
  {
   "cell_type": "code",
   "execution_count": null,
   "id": "78a2be25",
   "metadata": {},
   "outputs": [],
   "source": [
    "resp"
   ]
  },
  {
   "cell_type": "code",
   "execution_count": null,
   "id": "f8f57d8f",
   "metadata": {},
   "outputs": [],
   "source": [
    "resp.json()"
   ]
  }
 ],
 "metadata": {
  "kernelspec": {
   "display_name": "Python 3 (ipykernel)",
   "language": "python",
   "name": "python3"
  },
  "language_info": {
   "codemirror_mode": {
    "name": "ipython",
    "version": 3
   },
   "file_extension": ".py",
   "mimetype": "text/x-python",
   "name": "python",
   "nbconvert_exporter": "python",
   "pygments_lexer": "ipython3",
   "version": "3.9.12"
  }
 },
 "nbformat": 4,
 "nbformat_minor": 5
}
