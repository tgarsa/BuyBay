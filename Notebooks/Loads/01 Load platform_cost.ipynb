{
 "cells": [
  {
   "cell_type": "code",
   "execution_count": 1,
   "id": "1fc2d11d",
   "metadata": {},
   "outputs": [],
   "source": [
    "import pandas as pd"
   ]
  },
  {
   "cell_type": "code",
   "execution_count": 2,
   "id": "99342f86",
   "metadata": {},
   "outputs": [],
   "source": [
    "# Additional imporets\n",
    "# to have access to the web service\n",
    "import requests\n",
    "# To transforme the timestamps in datetieme\n",
    "from datetime import datetime"
   ]
  },
  {
   "cell_type": "code",
   "execution_count": 3,
   "id": "efa085d4",
   "metadata": {},
   "outputs": [],
   "source": [
    "# Conect to the API\n",
    "# We need to use our local ip. This would be updated manually.\n",
    "ip = '192.168.178.35'"
   ]
  },
  {
   "cell_type": "markdown",
   "id": "ecaaa2bd",
   "metadata": {},
   "source": [
    "## Add secure pass"
   ]
  },
  {
   "cell_type": "code",
   "execution_count": 4,
   "id": "1b3ff2cd",
   "metadata": {},
   "outputs": [
    {
     "data": {
      "text/plain": [
       "<Response [200]>"
      ]
     },
     "execution_count": 4,
     "metadata": {},
     "output_type": "execute_result"
    }
   ],
   "source": [
    "# URLs to connected with the app-service\n",
    "url_token = 'http://{}:5000/token'.format(ip)\n",
    "# resp = requests.post(url_token)\n",
    "resp = requests.post(url_token, data={'username': 'tgarsa', 'password':'secret'})\n",
    "# resp = requests.post(url_token, data={'username': 'alice', 'password':'secret'})\n",
    "resp"
   ]
  },
  {
   "cell_type": "code",
   "execution_count": 5,
   "id": "316ab11a",
   "metadata": {},
   "outputs": [],
   "source": [
    "# Recover the token info\n",
    "token = resp.json()['access_token']\n",
    "token_type = resp.json()['token_type']\n",
    "\n",
    "# Build the header\n",
    "headers = {\"Authorization\": \"{} {}\".format(token_type, token)}\n",
    "# headers"
   ]
  },
  {
   "cell_type": "markdown",
   "id": "3c8d9b6e",
   "metadata": {},
   "source": [
    "# Define a new data"
   ]
  },
  {
   "cell_type": "code",
   "execution_count": 6,
   "id": "d7de0486",
   "metadata": {},
   "outputs": [],
   "source": [
    "data = {}\n",
    "data['platform'] = 'Tgarsa'\n",
    "data['cost'] = 8\n",
    "now = datetime.now()\n",
    "data['created_at'] = now\n",
    "data['updated_at'] = now\n",
    "df = pd.DataFrame.from_dict(data, orient='index').transpose()"
   ]
  },
  {
   "cell_type": "code",
   "execution_count": 7,
   "id": "f26fe2fb",
   "metadata": {},
   "outputs": [
    {
     "data": {
      "text/plain": [
       "{'platform': 'Tgarsa',\n",
       " 'cost': 8,\n",
       " 'created_at': datetime.datetime(2023, 8, 8, 12, 9, 6, 624549),\n",
       " 'updated_at': datetime.datetime(2023, 8, 8, 12, 9, 6, 624549)}"
      ]
     },
     "execution_count": 7,
     "metadata": {},
     "output_type": "execute_result"
    }
   ],
   "source": [
    "data"
   ]
  },
  {
   "cell_type": "code",
   "execution_count": 8,
   "id": "ebbadd92",
   "metadata": {},
   "outputs": [
    {
     "data": {
      "text/html": [
       "<div>\n",
       "<style scoped>\n",
       "    .dataframe tbody tr th:only-of-type {\n",
       "        vertical-align: middle;\n",
       "    }\n",
       "\n",
       "    .dataframe tbody tr th {\n",
       "        vertical-align: top;\n",
       "    }\n",
       "\n",
       "    .dataframe thead th {\n",
       "        text-align: right;\n",
       "    }\n",
       "</style>\n",
       "<table border=\"1\" class=\"dataframe\">\n",
       "  <thead>\n",
       "    <tr style=\"text-align: right;\">\n",
       "      <th></th>\n",
       "      <th>platform</th>\n",
       "      <th>cost</th>\n",
       "      <th>created_at</th>\n",
       "      <th>updated_at</th>\n",
       "    </tr>\n",
       "  </thead>\n",
       "  <tbody>\n",
       "    <tr>\n",
       "      <th>0</th>\n",
       "      <td>Tgarsa</td>\n",
       "      <td>8</td>\n",
       "      <td>2023-08-08 12:09:06.624549</td>\n",
       "      <td>2023-08-08 12:09:06.624549</td>\n",
       "    </tr>\n",
       "  </tbody>\n",
       "</table>\n",
       "</div>"
      ],
      "text/plain": [
       "  platform cost                 created_at                 updated_at\n",
       "0   Tgarsa    8 2023-08-08 12:09:06.624549 2023-08-08 12:09:06.624549"
      ]
     },
     "execution_count": 8,
     "metadata": {},
     "output_type": "execute_result"
    }
   ],
   "source": [
    "df"
   ]
  },
  {
   "cell_type": "code",
   "execution_count": 9,
   "id": "08ccdbe1",
   "metadata": {},
   "outputs": [],
   "source": [
    "# URLs to connected with the app-service\n",
    "url = 'http://{}:5000/load_platform_cost'.format(ip)"
   ]
  },
  {
   "cell_type": "code",
   "execution_count": 10,
   "id": "cdef1e33",
   "metadata": {},
   "outputs": [],
   "source": [
    "resp = requests.post(url,  \n",
    "                     json={'df_json': df.to_json()}, \n",
    "                     headers=headers)"
   ]
  },
  {
   "cell_type": "code",
   "execution_count": 11,
   "id": "78a2be25",
   "metadata": {},
   "outputs": [
    {
     "data": {
      "text/plain": [
       "<Response [200]>"
      ]
     },
     "execution_count": 11,
     "metadata": {},
     "output_type": "execute_result"
    }
   ],
   "source": [
    "resp"
   ]
  },
  {
   "cell_type": "code",
   "execution_count": 12,
   "id": "f8f57d8f",
   "metadata": {},
   "outputs": [
    {
     "data": {
      "text/plain": [
       "{'label': 'It done'}"
      ]
     },
     "execution_count": 12,
     "metadata": {},
     "output_type": "execute_result"
    }
   ],
   "source": [
    "resp.json()"
   ]
  }
 ],
 "metadata": {
  "kernelspec": {
   "display_name": "Python 3 (ipykernel)",
   "language": "python",
   "name": "python3"
  },
  "language_info": {
   "codemirror_mode": {
    "name": "ipython",
    "version": 3
   },
   "file_extension": ".py",
   "mimetype": "text/x-python",
   "name": "python",
   "nbconvert_exporter": "python",
   "pygments_lexer": "ipython3",
   "version": "3.9.12"
  }
 },
 "nbformat": 4,
 "nbformat_minor": 5
}
