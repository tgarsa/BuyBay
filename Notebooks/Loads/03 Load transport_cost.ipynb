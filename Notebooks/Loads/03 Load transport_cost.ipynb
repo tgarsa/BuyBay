{
 "cells": [
  {
   "cell_type": "code",
   "execution_count": null,
   "id": "1fc2d11d",
   "metadata": {},
   "outputs": [],
   "source": [
    "import pandas as pd"
   ]
  },
  {
   "cell_type": "code",
   "execution_count": null,
   "id": "99342f86",
   "metadata": {},
   "outputs": [],
   "source": [
    "# Additional imporets\n",
    "# to have access to the web service\n",
    "import requests\n",
    "# To transforme the timestamps in datetieme\n",
    "from datetime import datetime"
   ]
  },
  {
   "cell_type": "code",
   "execution_count": null,
   "id": "5d68337e",
   "metadata": {},
   "outputs": [],
   "source": [
    "# Conect to the API\n",
    "# We need to use our local ip. This would be updated manually.\n",
    "# Mac ip\n",
    "# ip = \"192.168.178.35\"\n",
    "# Raspberry pi 3 IP\n",
    "# ip = \"\"\n",
    "# Raspberri pi 4 ip\n",
    "ip = \"192.168.178.189\""
   ]
  },
  {
   "cell_type": "code",
   "execution_count": null,
   "id": "b4859301",
   "metadata": {},
   "outputs": [],
   "source": [
    "# load dataframe\n",
    "\n",
    "df = pd.read_csv('transport_cost.csv')\n",
    "# now = datetime.now() \n",
    "df['created_at'] = now\n",
    "# df['updated_at'] = now\n",
    "df['updated_at'] = datetime.now() "
   ]
  },
  {
   "cell_type": "code",
   "execution_count": null,
   "id": "28851029",
   "metadata": {},
   "outputs": [],
   "source": [
    "df.shape"
   ]
  },
  {
   "cell_type": "code",
   "execution_count": null,
   "id": "e76c2bd6",
   "metadata": {},
   "outputs": [],
   "source": [
    "df.head()"
   ]
  },
  {
   "cell_type": "code",
   "execution_count": null,
   "id": "08ccdbe1",
   "metadata": {},
   "outputs": [],
   "source": [
    "# URLs to connected with the app-service\n",
    "url = 'http://{}:5000/load_transport_cost'.format(ip)"
   ]
  },
  {
   "cell_type": "code",
   "execution_count": null,
   "id": "cdef1e33",
   "metadata": {},
   "outputs": [],
   "source": [
    "resp = requests.post(url,  \n",
    "                     json={'df_json': df.to_json()})"
   ]
  },
  {
   "cell_type": "code",
   "execution_count": null,
   "id": "78a2be25",
   "metadata": {},
   "outputs": [],
   "source": [
    "resp"
   ]
  },
  {
   "cell_type": "code",
   "execution_count": null,
   "id": "f8f57d8f",
   "metadata": {},
   "outputs": [],
   "source": [
    "resp.json()"
   ]
  },
  {
   "cell_type": "code",
   "execution_count": null,
   "id": "9058a60b",
   "metadata": {
    "scrolled": true
   },
   "outputs": [],
   "source": [
    "resp.json()['label']"
   ]
  }
 ],
 "metadata": {
  "kernelspec": {
   "display_name": "Python 3 (ipykernel)",
   "language": "python",
   "name": "python3"
  },
  "language_info": {
   "codemirror_mode": {
    "name": "ipython",
    "version": 3
   },
   "file_extension": ".py",
   "mimetype": "text/x-python",
   "name": "python",
   "nbconvert_exporter": "python",
   "pygments_lexer": "ipython3",
   "version": "3.9.12"
  }
 },
 "nbformat": 4,
 "nbformat_minor": 5
}
