{
 "cells": [
  {
   "cell_type": "code",
   "execution_count": 1,
   "id": "1fc2d11d",
   "metadata": {},
   "outputs": [],
   "source": [
    "import pandas as pd"
   ]
  },
  {
   "cell_type": "code",
   "execution_count": 2,
   "id": "99342f86",
   "metadata": {},
   "outputs": [],
   "source": [
    "# Additional imporets\n",
    "# to have access to the web service\n",
    "import requests\n",
    "# To transforme the timestamps in datetieme\n",
    "from datetime import datetime"
   ]
  },
  {
   "cell_type": "code",
   "execution_count": 3,
   "id": "5d68337e",
   "metadata": {},
   "outputs": [],
   "source": [
    "# Conect to the API\n",
    "# We need to use our local ip. This would be updated manually.\n",
    "ip = '192.168.178.35'"
   ]
  },
  {
   "cell_type": "markdown",
   "id": "ff83c1bf",
   "metadata": {},
   "source": [
    "## Add secure pass"
   ]
  },
  {
   "cell_type": "code",
   "execution_count": 4,
   "id": "92ae590f",
   "metadata": {},
   "outputs": [
    {
     "data": {
      "text/plain": [
       "<Response [200]>"
      ]
     },
     "execution_count": 4,
     "metadata": {},
     "output_type": "execute_result"
    }
   ],
   "source": [
    "# URLs to connected with the app-service\n",
    "url_token = 'http://{}:5000/token'.format(ip)\n",
    "# resp = requests.post(url_token)\n",
    "resp = requests.post(url_token, data={'username': 'tgarsa', 'password':'secret'})\n",
    "# resp = requests.post(url_token, data={'username': 'alice', 'password':'secret'})\n",
    "resp"
   ]
  },
  {
   "cell_type": "code",
   "execution_count": 5,
   "id": "69ae6eb3",
   "metadata": {},
   "outputs": [],
   "source": [
    "# Recover the token info\n",
    "token = resp.json()['access_token']\n",
    "token_type = resp.json()['token_type']\n",
    "\n",
    "# Build the header\n",
    "headers = {\"Authorization\": \"{} {}\".format(token_type, token)}\n",
    "# headers"
   ]
  },
  {
   "cell_type": "code",
   "execution_count": 6,
   "id": "b4859301",
   "metadata": {},
   "outputs": [],
   "source": [
    "# load dataframe\n",
    "\n",
    "df = pd.read_csv('transport_cost.csv')\n",
    "now = datetime.now() \n",
    "df['created_at'] = now\n",
    "df['updated_at'] = now\n",
    "# df['updated_at'] = datetime.now() "
   ]
  },
  {
   "cell_type": "code",
   "execution_count": 7,
   "id": "28851029",
   "metadata": {},
   "outputs": [
    {
     "data": {
      "text/plain": [
       "(5, 4)"
      ]
     },
     "execution_count": 7,
     "metadata": {},
     "output_type": "execute_result"
    }
   ],
   "source": [
    "df.shape"
   ]
  },
  {
   "cell_type": "code",
   "execution_count": 8,
   "id": "e76c2bd6",
   "metadata": {},
   "outputs": [
    {
     "data": {
      "text/html": [
       "<div>\n",
       "<style scoped>\n",
       "    .dataframe tbody tr th:only-of-type {\n",
       "        vertical-align: middle;\n",
       "    }\n",
       "\n",
       "    .dataframe tbody tr th {\n",
       "        vertical-align: top;\n",
       "    }\n",
       "\n",
       "    .dataframe thead th {\n",
       "        text-align: right;\n",
       "    }\n",
       "</style>\n",
       "<table border=\"1\" class=\"dataframe\">\n",
       "  <thead>\n",
       "    <tr style=\"text-align: right;\">\n",
       "      <th></th>\n",
       "      <th>country</th>\n",
       "      <th>transport_cost</th>\n",
       "      <th>created_at</th>\n",
       "      <th>updated_at</th>\n",
       "    </tr>\n",
       "  </thead>\n",
       "  <tbody>\n",
       "    <tr>\n",
       "      <th>0</th>\n",
       "      <td>BELGIUM</td>\n",
       "      <td>4.0</td>\n",
       "      <td>2023-08-08 02:48:36.988261</td>\n",
       "      <td>2023-08-08 02:48:36.988261</td>\n",
       "    </tr>\n",
       "    <tr>\n",
       "      <th>1</th>\n",
       "      <td>NETHERLANDS</td>\n",
       "      <td>3.5</td>\n",
       "      <td>2023-08-08 02:48:36.988261</td>\n",
       "      <td>2023-08-08 02:48:36.988261</td>\n",
       "    </tr>\n",
       "    <tr>\n",
       "      <th>2</th>\n",
       "      <td>FRANCE</td>\n",
       "      <td>6.5</td>\n",
       "      <td>2023-08-08 02:48:36.988261</td>\n",
       "      <td>2023-08-08 02:48:36.988261</td>\n",
       "    </tr>\n",
       "    <tr>\n",
       "      <th>3</th>\n",
       "      <td>GERMANY</td>\n",
       "      <td>5.0</td>\n",
       "      <td>2023-08-08 02:48:36.988261</td>\n",
       "      <td>2023-08-08 02:48:36.988261</td>\n",
       "    </tr>\n",
       "    <tr>\n",
       "      <th>4</th>\n",
       "      <td>OTHER</td>\n",
       "      <td>7.0</td>\n",
       "      <td>2023-08-08 02:48:36.988261</td>\n",
       "      <td>2023-08-08 02:48:36.988261</td>\n",
       "    </tr>\n",
       "  </tbody>\n",
       "</table>\n",
       "</div>"
      ],
      "text/plain": [
       "       country  transport_cost                 created_at  \\\n",
       "0      BELGIUM             4.0 2023-08-08 02:48:36.988261   \n",
       "1  NETHERLANDS             3.5 2023-08-08 02:48:36.988261   \n",
       "2       FRANCE             6.5 2023-08-08 02:48:36.988261   \n",
       "3      GERMANY             5.0 2023-08-08 02:48:36.988261   \n",
       "4        OTHER             7.0 2023-08-08 02:48:36.988261   \n",
       "\n",
       "                  updated_at  \n",
       "0 2023-08-08 02:48:36.988261  \n",
       "1 2023-08-08 02:48:36.988261  \n",
       "2 2023-08-08 02:48:36.988261  \n",
       "3 2023-08-08 02:48:36.988261  \n",
       "4 2023-08-08 02:48:36.988261  "
      ]
     },
     "execution_count": 8,
     "metadata": {},
     "output_type": "execute_result"
    }
   ],
   "source": [
    "df.head()"
   ]
  },
  {
   "cell_type": "code",
   "execution_count": 9,
   "id": "08ccdbe1",
   "metadata": {},
   "outputs": [],
   "source": [
    "# URLs to connected with the app-service\n",
    "url = 'http://{}:5000/load_transport_cost'.format(ip)"
   ]
  },
  {
   "cell_type": "code",
   "execution_count": 10,
   "id": "cdef1e33",
   "metadata": {},
   "outputs": [],
   "source": [
    "resp = requests.post(url,  \n",
    "                     json={'df_json': df.to_json()}, \n",
    "                     headers=headers)"
   ]
  },
  {
   "cell_type": "code",
   "execution_count": 11,
   "id": "78a2be25",
   "metadata": {},
   "outputs": [
    {
     "data": {
      "text/plain": [
       "<Response [200]>"
      ]
     },
     "execution_count": 11,
     "metadata": {},
     "output_type": "execute_result"
    }
   ],
   "source": [
    "resp"
   ]
  },
  {
   "cell_type": "code",
   "execution_count": 12,
   "id": "f8f57d8f",
   "metadata": {},
   "outputs": [
    {
     "data": {
      "text/plain": [
       "{'label': 'It done'}"
      ]
     },
     "execution_count": 12,
     "metadata": {},
     "output_type": "execute_result"
    }
   ],
   "source": [
    "resp.json()"
   ]
  },
  {
   "cell_type": "code",
   "execution_count": 13,
   "id": "9058a60b",
   "metadata": {
    "scrolled": true
   },
   "outputs": [
    {
     "data": {
      "text/plain": [
       "'It done'"
      ]
     },
     "execution_count": 13,
     "metadata": {},
     "output_type": "execute_result"
    }
   ],
   "source": [
    "resp.json()['label']"
   ]
  }
 ],
 "metadata": {
  "kernelspec": {
   "display_name": "Python 3 (ipykernel)",
   "language": "python",
   "name": "python3"
  },
  "language_info": {
   "codemirror_mode": {
    "name": "ipython",
    "version": 3
   },
   "file_extension": ".py",
   "mimetype": "text/x-python",
   "name": "python",
   "nbconvert_exporter": "python",
   "pygments_lexer": "ipython3",
   "version": "3.9.12"
  }
 },
 "nbformat": 4,
 "nbformat_minor": 5
}
