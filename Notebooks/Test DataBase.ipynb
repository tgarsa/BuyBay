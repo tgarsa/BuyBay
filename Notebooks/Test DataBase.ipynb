{
 "cells": [
  {
   "cell_type": "markdown",
   "id": "a7b1579d",
   "metadata": {},
   "source": [
    "This notebook is only to test the database, and evaluate if we were loading the data correctly. "
   ]
  },
  {
   "cell_type": "code",
   "execution_count": 40,
   "id": "d0a0ba61",
   "metadata": {},
   "outputs": [],
   "source": [
    "import pandas as pd\n",
    "import numpy as np"
   ]
  },
  {
   "cell_type": "code",
   "execution_count": 41,
   "id": "8a93790e",
   "metadata": {},
   "outputs": [],
   "source": [
    "# To have access to the database\n",
    "import psycopg2 "
   ]
  },
  {
   "cell_type": "code",
   "execution_count": 42,
   "id": "437a6244",
   "metadata": {},
   "outputs": [],
   "source": [
    "# To build the data frame\n",
    "from library import to_dataframe"
   ]
  },
  {
   "cell_type": "markdown",
   "id": "23dd11d3",
   "metadata": {},
   "source": [
    "## Conexion\n",
    "\n",
    "Define the conexion to the Postgres container.\n",
    "\n",
    "It is necesari to know the internal IP"
   ]
  },
  {
   "cell_type": "code",
   "execution_count": 43,
   "id": "31b7f241",
   "metadata": {},
   "outputs": [],
   "source": [
    "# Define the conexion to the Postgres container.\n",
    "# It is necesari to know the internal IP\n",
    "# ip = '192.168.178.189'\n",
    "ip = '192.168.178.35'\n",
    "\n",
    "conexion = psycopg2.connect( \n",
    "    host=ip,\n",
    "    port=5432,\n",
    "    database=\"BuyBay\",\n",
    "    user=\"postgres\",\n",
    "    password=\"lop34sw@D\")"
   ]
  },
  {
   "cell_type": "code",
   "execution_count": 44,
   "id": "a04af7f2",
   "metadata": {},
   "outputs": [],
   "source": [
    "# Conected to the server\n",
    "cursor=conexion.cursor()"
   ]
  },
  {
   "cell_type": "markdown",
   "id": "7406d73b",
   "metadata": {},
   "source": [
    "## Download the whole dataset "
   ]
  },
  {
   "cell_type": "code",
   "execution_count": 45,
   "id": "5e19809b",
   "metadata": {},
   "outputs": [],
   "source": [
    "# sql=\"select * from sold_products_bronze\"\n",
    "# columns = ['id','license_plate', 'status', 'platform', 'created_at', 'shipped_at', 'updated_at', 'sold_price', 'country', 'channel_ref', 'platform_fee']\n",
    "# sql_2=\"select * from products_silver\"\n",
    "# columns_2 = ['id','license_plate', 'status', 'platform', 'created_at', 'shipped_at', 'updated_at', 'sold_price', 'country', 'channel_ref', 'platform_fee', 'grading_cat', 'grading_time']\n",
    "# sql_3=\"select * from products_gold\"\n",
    "# columns_3 = ['id','license_plate', 'status', 'platform', 'created_at', 'shipped_at', 'updated_at', 'sold_price', 'country', 'transport_cost', 'channel_ref', 'platform_fee', 'grading_cat', 'grading_fee', 'grading_time']\n",
    "\n",
    "\n",
    "# sql=\"select * from graded_products_bronze\"\n",
    "# columns=['id','license_plate','grading_cat','grading_time', 'created_at', 'updated_at']\n",
    "\n",
    "# sql=\"select * from grading_fees_bronze\"\n",
    "# columns = ['id', 'grading_cat', 'cost', 'created_at', 'updated_at']\n",
    "# sql_2=\"select * from grading_fees_silver\"\n",
    "\n",
    "# sql=\"select * from transport_cost_bronze\"\n",
    "# columns = ['id', 'country', 'transport_cost', 'created_at', 'updated_at']\n",
    "# sql_2=\"select * from transport_cost_silver\"\n",
    "\n",
    "sql=\"select * from platform_cost_bronze\"\n",
    "columns = ['id', 'platform', 'cost', 'created_at', 'updated_at']\n",
    "columns_2 = columns\n",
    "sql_2=\"select * from platform_cost_silver\""
   ]
  },
  {
   "cell_type": "code",
   "execution_count": 46,
   "id": "6973aad1",
   "metadata": {},
   "outputs": [],
   "source": [
    "cursor.execute(sql)"
   ]
  },
  {
   "cell_type": "code",
   "execution_count": 47,
   "id": "c1471a7c",
   "metadata": {},
   "outputs": [
    {
     "name": "stdout",
     "output_type": "stream",
     "text": [
      "Number of rows: 5\n"
     ]
    }
   ],
   "source": [
    "# How many data?\n",
    "print('Number of rows: {}'.format(cursor.rowcount))"
   ]
  },
  {
   "cell_type": "code",
   "execution_count": 48,
   "id": "4dc2e993",
   "metadata": {},
   "outputs": [],
   "source": [
    "df = to_dataframe(cursor, columns)"
   ]
  },
  {
   "cell_type": "code",
   "execution_count": 49,
   "id": "236e4d71",
   "metadata": {},
   "outputs": [
    {
     "data": {
      "text/html": [
       "<div>\n",
       "<style scoped>\n",
       "    .dataframe tbody tr th:only-of-type {\n",
       "        vertical-align: middle;\n",
       "    }\n",
       "\n",
       "    .dataframe tbody tr th {\n",
       "        vertical-align: top;\n",
       "    }\n",
       "\n",
       "    .dataframe thead th {\n",
       "        text-align: right;\n",
       "    }\n",
       "</style>\n",
       "<table border=\"1\" class=\"dataframe\">\n",
       "  <thead>\n",
       "    <tr style=\"text-align: right;\">\n",
       "      <th></th>\n",
       "      <th>id</th>\n",
       "      <th>platform</th>\n",
       "      <th>cost</th>\n",
       "      <th>created_at</th>\n",
       "      <th>updated_at</th>\n",
       "    </tr>\n",
       "  </thead>\n",
       "  <tbody>\n",
       "    <tr>\n",
       "      <th>0</th>\n",
       "      <td>1</td>\n",
       "      <td>Bol</td>\n",
       "      <td>10.0</td>\n",
       "      <td>2023-08-08 00:46:04.890936</td>\n",
       "      <td>2023-08-08 00:46:04.890936</td>\n",
       "    </tr>\n",
       "    <tr>\n",
       "      <th>1</th>\n",
       "      <td>2</td>\n",
       "      <td>Amazon</td>\n",
       "      <td>10.5</td>\n",
       "      <td>2023-08-08 00:46:04.890936</td>\n",
       "      <td>2023-08-08 00:46:04.890936</td>\n",
       "    </tr>\n",
       "    <tr>\n",
       "      <th>2</th>\n",
       "      <td>3</td>\n",
       "      <td>Ebay</td>\n",
       "      <td>9.0</td>\n",
       "      <td>2023-08-08 00:46:04.890936</td>\n",
       "      <td>2023-08-08 00:46:04.890936</td>\n",
       "    </tr>\n",
       "    <tr>\n",
       "      <th>3</th>\n",
       "      <td>4</td>\n",
       "      <td>Everything else</td>\n",
       "      <td>11.0</td>\n",
       "      <td>2023-08-08 00:46:04.890936</td>\n",
       "      <td>2023-08-08 00:46:04.890936</td>\n",
       "    </tr>\n",
       "    <tr>\n",
       "      <th>4</th>\n",
       "      <td>5</td>\n",
       "      <td>Tgarsa</td>\n",
       "      <td>8.0</td>\n",
       "      <td>2023-08-08 12:09:06.624000</td>\n",
       "      <td>2023-08-08 12:09:06.624000</td>\n",
       "    </tr>\n",
       "  </tbody>\n",
       "</table>\n",
       "</div>"
      ],
      "text/plain": [
       "  id         platform  cost                  created_at  \\\n",
       "0  1              Bol  10.0  2023-08-08 00:46:04.890936   \n",
       "1  2           Amazon  10.5  2023-08-08 00:46:04.890936   \n",
       "2  3             Ebay   9.0  2023-08-08 00:46:04.890936   \n",
       "3  4  Everything else  11.0  2023-08-08 00:46:04.890936   \n",
       "4  5           Tgarsa   8.0  2023-08-08 12:09:06.624000   \n",
       "\n",
       "                   updated_at  \n",
       "0  2023-08-08 00:46:04.890936  \n",
       "1  2023-08-08 00:46:04.890936  \n",
       "2  2023-08-08 00:46:04.890936  \n",
       "3  2023-08-08 00:46:04.890936  \n",
       "4  2023-08-08 12:09:06.624000  "
      ]
     },
     "execution_count": 49,
     "metadata": {},
     "output_type": "execute_result"
    }
   ],
   "source": [
    "df.head(5)"
   ]
  },
  {
   "cell_type": "code",
   "execution_count": 50,
   "id": "6997509a",
   "metadata": {},
   "outputs": [
    {
     "data": {
      "text/html": [
       "<div>\n",
       "<style scoped>\n",
       "    .dataframe tbody tr th:only-of-type {\n",
       "        vertical-align: middle;\n",
       "    }\n",
       "\n",
       "    .dataframe tbody tr th {\n",
       "        vertical-align: top;\n",
       "    }\n",
       "\n",
       "    .dataframe thead th {\n",
       "        text-align: right;\n",
       "    }\n",
       "</style>\n",
       "<table border=\"1\" class=\"dataframe\">\n",
       "  <thead>\n",
       "    <tr style=\"text-align: right;\">\n",
       "      <th></th>\n",
       "      <th>id</th>\n",
       "      <th>platform</th>\n",
       "      <th>cost</th>\n",
       "      <th>created_at</th>\n",
       "      <th>updated_at</th>\n",
       "    </tr>\n",
       "  </thead>\n",
       "  <tbody>\n",
       "    <tr>\n",
       "      <th>0</th>\n",
       "      <td>1</td>\n",
       "      <td>Bol</td>\n",
       "      <td>10.0</td>\n",
       "      <td>2023-08-08 00:46:04.890936</td>\n",
       "      <td>2023-08-08 00:46:04.890936</td>\n",
       "    </tr>\n",
       "    <tr>\n",
       "      <th>1</th>\n",
       "      <td>2</td>\n",
       "      <td>Amazon</td>\n",
       "      <td>10.5</td>\n",
       "      <td>2023-08-08 00:46:04.890936</td>\n",
       "      <td>2023-08-08 00:46:04.890936</td>\n",
       "    </tr>\n",
       "    <tr>\n",
       "      <th>2</th>\n",
       "      <td>3</td>\n",
       "      <td>Ebay</td>\n",
       "      <td>9.0</td>\n",
       "      <td>2023-08-08 00:46:04.890936</td>\n",
       "      <td>2023-08-08 00:46:04.890936</td>\n",
       "    </tr>\n",
       "    <tr>\n",
       "      <th>3</th>\n",
       "      <td>4</td>\n",
       "      <td>Everything else</td>\n",
       "      <td>11.0</td>\n",
       "      <td>2023-08-08 00:46:04.890936</td>\n",
       "      <td>2023-08-08 00:46:04.890936</td>\n",
       "    </tr>\n",
       "    <tr>\n",
       "      <th>4</th>\n",
       "      <td>5</td>\n",
       "      <td>Tgarsa</td>\n",
       "      <td>8.0</td>\n",
       "      <td>2023-08-08 12:09:06.624000</td>\n",
       "      <td>2023-08-08 12:09:06.624000</td>\n",
       "    </tr>\n",
       "  </tbody>\n",
       "</table>\n",
       "</div>"
      ],
      "text/plain": [
       "  id         platform  cost                  created_at  \\\n",
       "0  1              Bol  10.0  2023-08-08 00:46:04.890936   \n",
       "1  2           Amazon  10.5  2023-08-08 00:46:04.890936   \n",
       "2  3             Ebay   9.0  2023-08-08 00:46:04.890936   \n",
       "3  4  Everything else  11.0  2023-08-08 00:46:04.890936   \n",
       "4  5           Tgarsa   8.0  2023-08-08 12:09:06.624000   \n",
       "\n",
       "                   updated_at  \n",
       "0  2023-08-08 00:46:04.890936  \n",
       "1  2023-08-08 00:46:04.890936  \n",
       "2  2023-08-08 00:46:04.890936  \n",
       "3  2023-08-08 00:46:04.890936  \n",
       "4  2023-08-08 12:09:06.624000  "
      ]
     },
     "execution_count": 50,
     "metadata": {},
     "output_type": "execute_result"
    }
   ],
   "source": [
    "df.tail(10)"
   ]
  },
  {
   "cell_type": "code",
   "execution_count": 51,
   "id": "a5094ec8",
   "metadata": {},
   "outputs": [
    {
     "name": "stdout",
     "output_type": "stream",
     "text": [
      "Number of rows: 5\n"
     ]
    }
   ],
   "source": [
    "cursor.execute(sql_2)\n",
    "# How many data?\n",
    "print('Number of rows: {}'.format(cursor.rowcount))"
   ]
  },
  {
   "cell_type": "code",
   "execution_count": 52,
   "id": "da838149",
   "metadata": {},
   "outputs": [],
   "source": [
    "df_2 = to_dataframe(cursor, columns_2)\n",
    "# df_2 = to_dataframe(cursor, ['updated_at'])\n",
    "# df_2 = to_dataframe(cursor, columns_2)"
   ]
  },
  {
   "cell_type": "code",
   "execution_count": 53,
   "id": "9b32a661",
   "metadata": {},
   "outputs": [
    {
     "data": {
      "text/html": [
       "<div>\n",
       "<style scoped>\n",
       "    .dataframe tbody tr th:only-of-type {\n",
       "        vertical-align: middle;\n",
       "    }\n",
       "\n",
       "    .dataframe tbody tr th {\n",
       "        vertical-align: top;\n",
       "    }\n",
       "\n",
       "    .dataframe thead th {\n",
       "        text-align: right;\n",
       "    }\n",
       "</style>\n",
       "<table border=\"1\" class=\"dataframe\">\n",
       "  <thead>\n",
       "    <tr style=\"text-align: right;\">\n",
       "      <th></th>\n",
       "      <th>id</th>\n",
       "      <th>platform</th>\n",
       "      <th>cost</th>\n",
       "      <th>created_at</th>\n",
       "      <th>updated_at</th>\n",
       "    </tr>\n",
       "  </thead>\n",
       "  <tbody>\n",
       "    <tr>\n",
       "      <th>0</th>\n",
       "      <td>1</td>\n",
       "      <td>Bol</td>\n",
       "      <td>10.0</td>\n",
       "      <td>2023-08-08 00:46:04.890936</td>\n",
       "      <td>2023-08-08 00:46:04.890936</td>\n",
       "    </tr>\n",
       "    <tr>\n",
       "      <th>1</th>\n",
       "      <td>2</td>\n",
       "      <td>Amazon</td>\n",
       "      <td>10.5</td>\n",
       "      <td>2023-08-08 00:46:04.890936</td>\n",
       "      <td>2023-08-08 00:46:04.890936</td>\n",
       "    </tr>\n",
       "    <tr>\n",
       "      <th>2</th>\n",
       "      <td>3</td>\n",
       "      <td>Ebay</td>\n",
       "      <td>9.0</td>\n",
       "      <td>2023-08-08 00:46:04.890936</td>\n",
       "      <td>2023-08-08 00:46:04.890936</td>\n",
       "    </tr>\n",
       "    <tr>\n",
       "      <th>3</th>\n",
       "      <td>4</td>\n",
       "      <td>Everything else</td>\n",
       "      <td>11.0</td>\n",
       "      <td>2023-08-08 00:46:04.890936</td>\n",
       "      <td>2023-08-08 00:46:04.890936</td>\n",
       "    </tr>\n",
       "    <tr>\n",
       "      <th>4</th>\n",
       "      <td>5</td>\n",
       "      <td>Tgarsa</td>\n",
       "      <td>8.0</td>\n",
       "      <td>2023-08-08 12:09:06.624000</td>\n",
       "      <td>2023-08-08 12:09:06.624000</td>\n",
       "    </tr>\n",
       "  </tbody>\n",
       "</table>\n",
       "</div>"
      ],
      "text/plain": [
       "  id         platform  cost                  created_at  \\\n",
       "0  1              Bol  10.0  2023-08-08 00:46:04.890936   \n",
       "1  2           Amazon  10.5  2023-08-08 00:46:04.890936   \n",
       "2  3             Ebay   9.0  2023-08-08 00:46:04.890936   \n",
       "3  4  Everything else  11.0  2023-08-08 00:46:04.890936   \n",
       "4  5           Tgarsa   8.0  2023-08-08 12:09:06.624000   \n",
       "\n",
       "                   updated_at  \n",
       "0  2023-08-08 00:46:04.890936  \n",
       "1  2023-08-08 00:46:04.890936  \n",
       "2  2023-08-08 00:46:04.890936  \n",
       "3  2023-08-08 00:46:04.890936  \n",
       "4  2023-08-08 12:09:06.624000  "
      ]
     },
     "execution_count": 53,
     "metadata": {},
     "output_type": "execute_result"
    }
   ],
   "source": [
    "df_2.tail()"
   ]
  },
  {
   "cell_type": "code",
   "execution_count": 54,
   "id": "9aa12c77",
   "metadata": {},
   "outputs": [],
   "source": [
    "# df_2['license_plate'].value_counts(dropna=False)"
   ]
  },
  {
   "cell_type": "code",
   "execution_count": 55,
   "id": "6b5f9e85",
   "metadata": {},
   "outputs": [
    {
     "name": "stdout",
     "output_type": "stream",
     "text": [
      "Number of rows: 1681\n"
     ]
    }
   ],
   "source": [
    "cursor.execute(sql_3)\n",
    "# How many data?\n",
    "print('Number of rows: {}'.format(cursor.rowcount))"
   ]
  },
  {
   "cell_type": "code",
   "execution_count": 56,
   "id": "23985bc5",
   "metadata": {},
   "outputs": [],
   "source": [
    "df_3 = to_dataframe(cursor, columns_3)"
   ]
  },
  {
   "cell_type": "code",
   "execution_count": 57,
   "id": "6d7c5efb",
   "metadata": {},
   "outputs": [
    {
     "data": {
      "text/html": [
       "<div>\n",
       "<style scoped>\n",
       "    .dataframe tbody tr th:only-of-type {\n",
       "        vertical-align: middle;\n",
       "    }\n",
       "\n",
       "    .dataframe tbody tr th {\n",
       "        vertical-align: top;\n",
       "    }\n",
       "\n",
       "    .dataframe thead th {\n",
       "        text-align: right;\n",
       "    }\n",
       "</style>\n",
       "<table border=\"1\" class=\"dataframe\">\n",
       "  <thead>\n",
       "    <tr style=\"text-align: right;\">\n",
       "      <th></th>\n",
       "      <th>id</th>\n",
       "      <th>license_plate</th>\n",
       "      <th>status</th>\n",
       "      <th>platform</th>\n",
       "      <th>created_at</th>\n",
       "      <th>shipped_at</th>\n",
       "      <th>updated_at</th>\n",
       "      <th>sold_price</th>\n",
       "      <th>country</th>\n",
       "      <th>transport_cost</th>\n",
       "      <th>channel_ref</th>\n",
       "      <th>platform_fee</th>\n",
       "      <th>grading_cat</th>\n",
       "      <th>grading_fee</th>\n",
       "      <th>grading_time</th>\n",
       "    </tr>\n",
       "  </thead>\n",
       "  <tbody>\n",
       "    <tr>\n",
       "      <th>1676</th>\n",
       "      <td>3358</td>\n",
       "      <td>BW221109062888</td>\n",
       "      <td>shipped</td>\n",
       "      <td>Bol</td>\n",
       "      <td>2021-06-18 23:05:38</td>\n",
       "      <td>2021-06-20 14:00:44</td>\n",
       "      <td>2023-08-08 11:59:38.007000</td>\n",
       "      <td>60.74</td>\n",
       "      <td>BELGIUM</td>\n",
       "      <td>4.0</td>\n",
       "      <td>WMYT-74VC-91Y6</td>\n",
       "      <td>5.41</td>\n",
       "      <td>WP3</td>\n",
       "      <td>17.42</td>\n",
       "      <td>5</td>\n",
       "    </tr>\n",
       "    <tr>\n",
       "      <th>1677</th>\n",
       "      <td>3359</td>\n",
       "      <td>BW221109062917</td>\n",
       "      <td>shipped</td>\n",
       "      <td>Bva NL</td>\n",
       "      <td>2021-06-18 23:17:03</td>\n",
       "      <td>2021-06-20 16:35:34</td>\n",
       "      <td>2023-08-08 11:59:38.007000</td>\n",
       "      <td>16.38</td>\n",
       "      <td>NETHERLANDS</td>\n",
       "      <td>3.5</td>\n",
       "      <td>48f03b63-23d9-4376-7280-08d9306ef22a</td>\n",
       "      <td>1.8018</td>\n",
       "      <td>WP3</td>\n",
       "      <td>17.42</td>\n",
       "      <td>9</td>\n",
       "    </tr>\n",
       "    <tr>\n",
       "      <th>1678</th>\n",
       "      <td>3360</td>\n",
       "      <td>BW221109063206</td>\n",
       "      <td>shipped</td>\n",
       "      <td>Amazon</td>\n",
       "      <td>2021-06-18 23:43:11</td>\n",
       "      <td>2021-06-20 14:00:25</td>\n",
       "      <td>2023-08-08 11:59:38.007000</td>\n",
       "      <td>18.08</td>\n",
       "      <td>GERMANY</td>\n",
       "      <td>5.0</td>\n",
       "      <td>5VNB-37MD-R3UK</td>\n",
       "      <td>3.68</td>\n",
       "      <td>WP3</td>\n",
       "      <td>17.42</td>\n",
       "      <td>8</td>\n",
       "    </tr>\n",
       "    <tr>\n",
       "      <th>1679</th>\n",
       "      <td>3361</td>\n",
       "      <td>BW221109063219</td>\n",
       "      <td>shipped</td>\n",
       "      <td>Bol</td>\n",
       "      <td>2021-06-19 00:05:16</td>\n",
       "      <td>2021-06-20 20:05:29</td>\n",
       "      <td>2023-08-08 11:59:38.007000</td>\n",
       "      <td>185.51</td>\n",
       "      <td>NETHERLANDS</td>\n",
       "      <td>3.5</td>\n",
       "      <td>UWCT-UQRE-XD47</td>\n",
       "      <td>27.94</td>\n",
       "      <td>WP3</td>\n",
       "      <td>17.42</td>\n",
       "      <td>15</td>\n",
       "    </tr>\n",
       "    <tr>\n",
       "      <th>1680</th>\n",
       "      <td>3362</td>\n",
       "      <td>BW221109063354</td>\n",
       "      <td>shipped</td>\n",
       "      <td>Ebay</td>\n",
       "      <td>2021-06-19 00:19:41</td>\n",
       "      <td>2021-06-20 16:35:47</td>\n",
       "      <td>2023-08-08 11:59:38.007000</td>\n",
       "      <td>41.8</td>\n",
       "      <td>GERMANY</td>\n",
       "      <td>5.0</td>\n",
       "      <td>VY6G-CAU8-EK4J</td>\n",
       "      <td>5.52</td>\n",
       "      <td>WP3</td>\n",
       "      <td>17.42</td>\n",
       "      <td>19</td>\n",
       "    </tr>\n",
       "  </tbody>\n",
       "</table>\n",
       "</div>"
      ],
      "text/plain": [
       "        id   license_plate   status platform           created_at  \\\n",
       "1676  3358  BW221109062888  shipped      Bol  2021-06-18 23:05:38   \n",
       "1677  3359  BW221109062917  shipped   Bva NL  2021-06-18 23:17:03   \n",
       "1678  3360  BW221109063206  shipped   Amazon  2021-06-18 23:43:11   \n",
       "1679  3361  BW221109063219  shipped      Bol  2021-06-19 00:05:16   \n",
       "1680  3362  BW221109063354  shipped     Ebay  2021-06-19 00:19:41   \n",
       "\n",
       "               shipped_at                  updated_at sold_price      country  \\\n",
       "1676  2021-06-20 14:00:44  2023-08-08 11:59:38.007000      60.74      BELGIUM   \n",
       "1677  2021-06-20 16:35:34  2023-08-08 11:59:38.007000      16.38  NETHERLANDS   \n",
       "1678  2021-06-20 14:00:25  2023-08-08 11:59:38.007000      18.08      GERMANY   \n",
       "1679  2021-06-20 20:05:29  2023-08-08 11:59:38.007000     185.51  NETHERLANDS   \n",
       "1680  2021-06-20 16:35:47  2023-08-08 11:59:38.007000       41.8      GERMANY   \n",
       "\n",
       "     transport_cost                           channel_ref platform_fee  \\\n",
       "1676            4.0                        WMYT-74VC-91Y6         5.41   \n",
       "1677            3.5  48f03b63-23d9-4376-7280-08d9306ef22a       1.8018   \n",
       "1678            5.0                        5VNB-37MD-R3UK         3.68   \n",
       "1679            3.5                        UWCT-UQRE-XD47        27.94   \n",
       "1680            5.0                        VY6G-CAU8-EK4J         5.52   \n",
       "\n",
       "     grading_cat grading_fee grading_time  \n",
       "1676         WP3       17.42            5  \n",
       "1677         WP3       17.42            9  \n",
       "1678         WP3       17.42            8  \n",
       "1679         WP3       17.42           15  \n",
       "1680         WP3       17.42           19  "
      ]
     },
     "execution_count": 57,
     "metadata": {},
     "output_type": "execute_result"
    }
   ],
   "source": [
    "df_3.tail()"
   ]
  }
 ],
 "metadata": {
  "kernelspec": {
   "display_name": "Python 3 (ipykernel)",
   "language": "python",
   "name": "python3"
  },
  "language_info": {
   "codemirror_mode": {
    "name": "ipython",
    "version": 3
   },
   "file_extension": ".py",
   "mimetype": "text/x-python",
   "name": "python",
   "nbconvert_exporter": "python",
   "pygments_lexer": "ipython3",
   "version": "3.9.12"
  }
 },
 "nbformat": 4,
 "nbformat_minor": 5
}
