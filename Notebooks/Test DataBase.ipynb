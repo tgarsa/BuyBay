{
 "cells": [
  {
   "cell_type": "markdown",
   "id": "a7b1579d",
   "metadata": {},
   "source": [
    "This notebook is only to test the database, and evaluate if we were loading the data correctly. "
   ]
  },
  {
   "cell_type": "code",
   "execution_count": null,
   "id": "d0a0ba61",
   "metadata": {},
   "outputs": [],
   "source": [
    "import pandas as pd\n",
    "import numpy as np"
   ]
  },
  {
   "cell_type": "code",
   "execution_count": null,
   "id": "8a93790e",
   "metadata": {},
   "outputs": [],
   "source": [
    "# To have access to the database\n",
    "import psycopg2 "
   ]
  },
  {
   "cell_type": "code",
   "execution_count": null,
   "id": "437a6244",
   "metadata": {},
   "outputs": [],
   "source": [
    "# To build the data frame\n",
    "from Finance.library import to_dataframe"
   ]
  },
  {
   "cell_type": "markdown",
   "id": "23dd11d3",
   "metadata": {},
   "source": [
    "## Conexion\n",
    "\n",
    "Define the conexion to the Postgres container.\n",
    "\n",
    "It is necesari to know the internal IP"
   ]
  },
  {
   "cell_type": "code",
   "execution_count": null,
   "id": "31b7f241",
   "metadata": {},
   "outputs": [],
   "source": [
    "# Define the conexion to the Postgres container.\n",
    "# It is necesari to know the internal IP\n",
    "# Mac ip\n",
    "# ip = \"192.168.178.35\"\n",
    "# Raspberry pi 3 IP\n",
    "# ip = \"\"\n",
    "# Raspberri pi 4 ip\n",
    "ip = \"192.168.178.189\"\n",
    "\n",
    "conexion = psycopg2.connect( \n",
    "    host=ip,\n",
    "    port=5432,\n",
    "    database=\"BuyBay\",\n",
    "    user=\"postgres\",\n",
    "    password=\"lop34sw@D\")"
   ]
  },
  {
   "cell_type": "code",
   "execution_count": null,
   "id": "a04af7f2",
   "metadata": {},
   "outputs": [],
   "source": [
    "# Conected to the server\n",
    "cursor=conexion.cursor()"
   ]
  },
  {
   "cell_type": "markdown",
   "id": "7406d73b",
   "metadata": {},
   "source": [
    "## Download the whole dataset "
   ]
  },
  {
   "cell_type": "code",
   "execution_count": null,
   "id": "5e19809b",
   "metadata": {},
   "outputs": [],
   "source": [
    "sql=\"select * from sold_products_bronze\"\n",
    "columns = ['id','license_plate', 'status', 'platform', 'created_at', 'shipped_at', 'updated_at', 'sold_price', 'country', 'channel_ref', 'platform_fee']\n",
    "sql_2=\"select * from products_silver\"\n",
    "columns_2 = ['id','license_plate', 'status', 'platform', 'created_at', 'shipped_at', 'updated_at', 'sold_price', 'country', 'channel_ref', 'platform_fee', 'grading_cat', 'grading_time']\n",
    "sql_3=\"select * from products_gold\"\n",
    "columns_3 = ['id','license_plate', 'status', 'platform', 'created_at', 'shipped_at', 'updated_at', 'sold_price', 'country', 'transport_cost', 'channel_ref', 'platform_fee', 'grading_cat', 'grading_fee', 'grading_time']\n",
    "\n",
    "\n",
    "# sql=\"select * from graded_products_bronze\"\n",
    "# columns=['id','license_plate','grading_cat','grading_time', 'created_at', 'updated_at']\n",
    "\n",
    "# sql=\"select * from grading_fees_bronze\"\n",
    "# columns = ['id', 'grading_cat', 'cost', 'created_at', 'updated_at']\n",
    "# sql_2=\"select * from grading_fees_silver\"\n",
    "\n",
    "# sql=\"select * from transport_cost_bronze\"\n",
    "# columns = ['id', 'country', 'transport_cost', 'created_at', 'updated_at']\n",
    "# sql_2=\"select * from transport_cost_silver\"\n",
    "\n",
    "# sql=\"select * from platform_cost_bronze\"\n",
    "# columns = ['id', 'platform', 'cost', 'created_at', 'updated_at']\n",
    "# columns_2 = columns\n",
    "# sql_2=\"select * from platform_cost_silver\""
   ]
  },
  {
   "cell_type": "code",
   "execution_count": null,
   "id": "6973aad1",
   "metadata": {},
   "outputs": [],
   "source": [
    "cursor.execute(sql)"
   ]
  },
  {
   "cell_type": "code",
   "execution_count": null,
   "id": "9072ebfb",
   "metadata": {},
   "outputs": [],
   "source": [
    "# fetchone() fetchall(), or fetchmany()."
   ]
  },
  {
   "cell_type": "code",
   "execution_count": null,
   "id": "c1471a7c",
   "metadata": {},
   "outputs": [],
   "source": [
    "# How many data?\n",
    "print('Number of rows: {}'.format(cursor.rowcount))"
   ]
  },
  {
   "cell_type": "code",
   "execution_count": null,
   "id": "cdcdd559",
   "metadata": {},
   "outputs": [],
   "source": [
    "data = cursor.fetchall()"
   ]
  },
  {
   "cell_type": "code",
   "execution_count": null,
   "id": "c8204777",
   "metadata": {},
   "outputs": [],
   "source": [
    "df = pd.DataFrame(data, columns=columns)"
   ]
  },
  {
   "cell_type": "code",
   "execution_count": null,
   "id": "236e4d71",
   "metadata": {},
   "outputs": [],
   "source": [
    "df.head(5)"
   ]
  },
  {
   "cell_type": "code",
   "execution_count": null,
   "id": "6997509a",
   "metadata": {},
   "outputs": [],
   "source": [
    "df.tail(10)"
   ]
  },
  {
   "cell_type": "code",
   "execution_count": null,
   "id": "a5094ec8",
   "metadata": {},
   "outputs": [],
   "source": [
    "cursor.execute(sql_2)\n",
    "# How many data?\n",
    "print('Number of rows: {}'.format(cursor.rowcount))"
   ]
  },
  {
   "cell_type": "code",
   "execution_count": null,
   "id": "26acced5",
   "metadata": {},
   "outputs": [],
   "source": [
    "data = cursor.fetchall()\n",
    "df_2 = pd.DataFrame(data, columns=columns_2)"
   ]
  },
  {
   "cell_type": "code",
   "execution_count": null,
   "id": "9b32a661",
   "metadata": {},
   "outputs": [],
   "source": [
    "df_2.tail()"
   ]
  },
  {
   "cell_type": "code",
   "execution_count": null,
   "id": "9aa12c77",
   "metadata": {},
   "outputs": [],
   "source": [
    "# df_2['license_plate'].value_counts(dropna=False)"
   ]
  },
  {
   "cell_type": "code",
   "execution_count": null,
   "id": "6b5f9e85",
   "metadata": {},
   "outputs": [],
   "source": [
    "cursor.execute(sql_3)\n",
    "# How many data?\n",
    "print('Number of rows: {}'.format(cursor.rowcount))"
   ]
  },
  {
   "cell_type": "code",
   "execution_count": null,
   "id": "f85312db",
   "metadata": {},
   "outputs": [],
   "source": [
    "data = cursor.fetchall()\n",
    "df_3 = pd.DataFrame(data, columns=columns_3)"
   ]
  },
  {
   "cell_type": "code",
   "execution_count": null,
   "id": "6d7c5efb",
   "metadata": {},
   "outputs": [],
   "source": [
    "df_3.tail()"
   ]
  }
 ],
 "metadata": {
  "kernelspec": {
   "display_name": "Python 3 (ipykernel)",
   "language": "python",
   "name": "python3"
  },
  "language_info": {
   "codemirror_mode": {
    "name": "ipython",
    "version": 3
   },
   "file_extension": ".py",
   "mimetype": "text/x-python",
   "name": "python",
   "nbconvert_exporter": "python",
   "pygments_lexer": "ipython3",
   "version": "3.9.12"
  }
 },
 "nbformat": 4,
 "nbformat_minor": 5
}
