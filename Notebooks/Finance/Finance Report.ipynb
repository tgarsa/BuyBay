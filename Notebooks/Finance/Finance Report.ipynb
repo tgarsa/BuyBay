{
 "cells": [
  {
   "cell_type": "code",
   "execution_count": 1,
   "id": "8fe2d44f",
   "metadata": {},
   "outputs": [],
   "source": [
    "import pandas as pd"
   ]
  },
  {
   "cell_type": "code",
   "execution_count": 2,
   "id": "7f443f1e",
   "metadata": {},
   "outputs": [],
   "source": [
    "# Additional imporets\n",
    "# to have access to the web service\n",
    "import requests\n",
    "# To transforme the timestamps in datetieme\n",
    "from datetime import datetime"
   ]
  },
  {
   "cell_type": "code",
   "execution_count": 3,
   "id": "8415b683",
   "metadata": {},
   "outputs": [],
   "source": [
    "# Conect to the API\n",
    "# We need to use our local ip. This would be updated manually.\n",
    "ip = '192.168.178.35'"
   ]
  },
  {
   "cell_type": "markdown",
   "id": "d5ef7f23",
   "metadata": {},
   "source": [
    "## Add secure pass"
   ]
  },
  {
   "cell_type": "code",
   "execution_count": 4,
   "id": "40fe5d0b",
   "metadata": {},
   "outputs": [
    {
     "data": {
      "text/plain": [
       "<Response [200]>"
      ]
     },
     "execution_count": 4,
     "metadata": {},
     "output_type": "execute_result"
    }
   ],
   "source": [
    "# URLs to connected with the app-service\n",
    "url_token = 'http://{}:5010/token'.format(ip)\n",
    "# resp = requests.post(url_token)\n",
    "resp = requests.post(url_token, data={'username': 'tgarsa', 'password':'secret'})\n",
    "# resp = requests.post(url_token, data={'username': 'alice', 'password':'secret'})\n",
    "resp"
   ]
  },
  {
   "cell_type": "code",
   "execution_count": 5,
   "id": "72102279",
   "metadata": {},
   "outputs": [],
   "source": [
    "# resp.json()"
   ]
  },
  {
   "cell_type": "code",
   "execution_count": 6,
   "id": "1af5089a",
   "metadata": {},
   "outputs": [],
   "source": [
    "# Recober the token info\n",
    "token = resp.json()['access_token']\n",
    "token_type = resp.json()['token_type']\n",
    "\n",
    "# Build the header\n",
    "headers = {\"Authorization\": \"{} {}\".format(token_type, token)}\n",
    "# headers"
   ]
  },
  {
   "cell_type": "markdown",
   "id": "7369c95b",
   "metadata": {},
   "source": [
    "## Access to the data "
   ]
  },
  {
   "cell_type": "code",
   "execution_count": 7,
   "id": "7c9048d3",
   "metadata": {},
   "outputs": [],
   "source": [
    "# URLs to connected with the app-service\n",
    "url = 'http://{}:5010/finance_report'.format(ip)"
   ]
  },
  {
   "cell_type": "code",
   "execution_count": 8,
   "id": "6373781f",
   "metadata": {},
   "outputs": [],
   "source": [
    "resp = requests.get(url, headers=headers)"
   ]
  },
  {
   "cell_type": "code",
   "execution_count": 9,
   "id": "e41ed42f",
   "metadata": {},
   "outputs": [
    {
     "data": {
      "text/plain": [
       "<Response [200]>"
      ]
     },
     "execution_count": 9,
     "metadata": {},
     "output_type": "execute_result"
    }
   ],
   "source": [
    "resp"
   ]
  },
  {
   "cell_type": "code",
   "execution_count": 10,
   "id": "41270752",
   "metadata": {
    "scrolled": true
   },
   "outputs": [],
   "source": [
    "# resp.json()"
   ]
  },
  {
   "cell_type": "code",
   "execution_count": 11,
   "id": "67725bc1",
   "metadata": {
    "scrolled": false
   },
   "outputs": [],
   "source": [
    "df = pd.read_json(resp.json())"
   ]
  },
  {
   "cell_type": "code",
   "execution_count": 12,
   "id": "60d7d27b",
   "metadata": {},
   "outputs": [
    {
     "data": {
      "text/html": [
       "<div>\n",
       "<style scoped>\n",
       "    .dataframe tbody tr th:only-of-type {\n",
       "        vertical-align: middle;\n",
       "    }\n",
       "\n",
       "    .dataframe tbody tr th {\n",
       "        vertical-align: top;\n",
       "    }\n",
       "\n",
       "    .dataframe thead th {\n",
       "        text-align: right;\n",
       "    }\n",
       "</style>\n",
       "<table border=\"1\" class=\"dataframe\">\n",
       "  <thead>\n",
       "    <tr style=\"text-align: right;\">\n",
       "      <th></th>\n",
       "      <th>platform</th>\n",
       "      <th>created_at</th>\n",
       "      <th>sold_price</th>\n",
       "      <th>total fees</th>\n",
       "      <th>transport cost</th>\n",
       "      <th>partner_payout</th>\n",
       "    </tr>\n",
       "  </thead>\n",
       "  <tbody>\n",
       "    <tr>\n",
       "      <th>0</th>\n",
       "      <td>Amazon</td>\n",
       "      <td>2021-06-12</td>\n",
       "      <td>258.31</td>\n",
       "      <td>70.943549</td>\n",
       "      <td>0.0</td>\n",
       "      <td>187.366451</td>\n",
       "    </tr>\n",
       "    <tr>\n",
       "      <th>1</th>\n",
       "      <td>Amazon</td>\n",
       "      <td>2021-06-18</td>\n",
       "      <td>1797.41</td>\n",
       "      <td>881.390403</td>\n",
       "      <td>132.5</td>\n",
       "      <td>783.519597</td>\n",
       "    </tr>\n",
       "    <tr>\n",
       "      <th>2</th>\n",
       "      <td>Amazon</td>\n",
       "      <td>2021-06-19</td>\n",
       "      <td>6882.32</td>\n",
       "      <td>2594.883156</td>\n",
       "      <td>378.5</td>\n",
       "      <td>3908.936844</td>\n",
       "    </tr>\n",
       "    <tr>\n",
       "      <th>3</th>\n",
       "      <td>Amazon</td>\n",
       "      <td>2021-06-20</td>\n",
       "      <td>3729.27</td>\n",
       "      <td>1247.130145</td>\n",
       "      <td>147.5</td>\n",
       "      <td>2334.639855</td>\n",
       "    </tr>\n",
       "    <tr>\n",
       "      <th>4</th>\n",
       "      <td>Amazon</td>\n",
       "      <td>2021-06-24</td>\n",
       "      <td>124.68</td>\n",
       "      <td>49.438001</td>\n",
       "      <td>5.0</td>\n",
       "      <td>70.241999</td>\n",
       "    </tr>\n",
       "    <tr>\n",
       "      <th>...</th>\n",
       "      <td>...</td>\n",
       "      <td>...</td>\n",
       "      <td>...</td>\n",
       "      <td>...</td>\n",
       "      <td>...</td>\n",
       "      <td>...</td>\n",
       "    </tr>\n",
       "    <tr>\n",
       "      <th>459</th>\n",
       "      <td>Kaufland</td>\n",
       "      <td>2022-04-03</td>\n",
       "      <td>127.55</td>\n",
       "      <td>42.605000</td>\n",
       "      <td>5.0</td>\n",
       "      <td>79.945000</td>\n",
       "    </tr>\n",
       "    <tr>\n",
       "      <th>460</th>\n",
       "      <td>Kaufland</td>\n",
       "      <td>2022-04-17</td>\n",
       "      <td>128.13</td>\n",
       "      <td>39.033001</td>\n",
       "      <td>5.0</td>\n",
       "      <td>84.096999</td>\n",
       "    </tr>\n",
       "    <tr>\n",
       "      <th>461</th>\n",
       "      <td>Kaufland</td>\n",
       "      <td>2022-04-30</td>\n",
       "      <td>54.24</td>\n",
       "      <td>28.284000</td>\n",
       "      <td>5.0</td>\n",
       "      <td>20.956000</td>\n",
       "    </tr>\n",
       "    <tr>\n",
       "      <th>462</th>\n",
       "      <td>Kaufland</td>\n",
       "      <td>2022-05-16</td>\n",
       "      <td>161.74</td>\n",
       "      <td>46.994000</td>\n",
       "      <td>5.0</td>\n",
       "      <td>109.746000</td>\n",
       "    </tr>\n",
       "    <tr>\n",
       "      <th>463</th>\n",
       "      <td>Kaufland</td>\n",
       "      <td>2022-05-31</td>\n",
       "      <td>46.49</td>\n",
       "      <td>29.489000</td>\n",
       "      <td>5.0</td>\n",
       "      <td>12.001000</td>\n",
       "    </tr>\n",
       "  </tbody>\n",
       "</table>\n",
       "<p>464 rows × 6 columns</p>\n",
       "</div>"
      ],
      "text/plain": [
       "     platform created_at  sold_price   total fees  transport cost  \\\n",
       "0      Amazon 2021-06-12      258.31    70.943549             0.0   \n",
       "1      Amazon 2021-06-18     1797.41   881.390403           132.5   \n",
       "2      Amazon 2021-06-19     6882.32  2594.883156           378.5   \n",
       "3      Amazon 2021-06-20     3729.27  1247.130145           147.5   \n",
       "4      Amazon 2021-06-24      124.68    49.438001             5.0   \n",
       "..        ...        ...         ...          ...             ...   \n",
       "459  Kaufland 2022-04-03      127.55    42.605000             5.0   \n",
       "460  Kaufland 2022-04-17      128.13    39.033001             5.0   \n",
       "461  Kaufland 2022-04-30       54.24    28.284000             5.0   \n",
       "462  Kaufland 2022-05-16      161.74    46.994000             5.0   \n",
       "463  Kaufland 2022-05-31       46.49    29.489000             5.0   \n",
       "\n",
       "     partner_payout  \n",
       "0        187.366451  \n",
       "1        783.519597  \n",
       "2       3908.936844  \n",
       "3       2334.639855  \n",
       "4         70.241999  \n",
       "..              ...  \n",
       "459       79.945000  \n",
       "460       84.096999  \n",
       "461       20.956000  \n",
       "462      109.746000  \n",
       "463       12.001000  \n",
       "\n",
       "[464 rows x 6 columns]"
      ]
     },
     "execution_count": 12,
     "metadata": {},
     "output_type": "execute_result"
    }
   ],
   "source": [
    "df"
   ]
  }
 ],
 "metadata": {
  "kernelspec": {
   "display_name": "Python 3 (ipykernel)",
   "language": "python",
   "name": "python3"
  },
  "language_info": {
   "codemirror_mode": {
    "name": "ipython",
    "version": 3
   },
   "file_extension": ".py",
   "mimetype": "text/x-python",
   "name": "python",
   "nbconvert_exporter": "python",
   "pygments_lexer": "ipython3",
   "version": "3.9.12"
  }
 },
 "nbformat": 4,
 "nbformat_minor": 5
}
