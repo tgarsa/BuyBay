{
 "cells": [
  {
   "cell_type": "code",
   "execution_count": null,
   "id": "8fe2d44f",
   "metadata": {},
   "outputs": [],
   "source": [
    "import pandas as pd"
   ]
  },
  {
   "cell_type": "code",
   "execution_count": null,
   "id": "7f443f1e",
   "metadata": {},
   "outputs": [],
   "source": [
    "# Additional imporets\n",
    "# to have access to the web service\n",
    "import requests\n",
    "# To transforme the timestamps in datetieme\n",
    "from datetime import datetime"
   ]
  },
  {
   "cell_type": "code",
   "execution_count": null,
   "id": "8415b683",
   "metadata": {},
   "outputs": [],
   "source": [
    "# Conect to the API\n",
    "# We need to use our local ip. This would be updated manually.\n",
    "# Mac ip\n",
    "# ip = \"192.168.178.35\"\n",
    "# Raspberry pi 3 IP\n",
    "# ip = \"\"\n",
    "# Raspberri pi 4 ip\n",
    "ip = \"192.168.178.189\""
   ]
  },
  {
   "cell_type": "markdown",
   "id": "7369c95b",
   "metadata": {},
   "source": [
    "## Access to the data "
   ]
  },
  {
   "cell_type": "code",
   "execution_count": null,
   "id": "7c9048d3",
   "metadata": {},
   "outputs": [],
   "source": [
    "# URLs to connected with the app-service\n",
    "url = 'http://{}:5010/finance_report'.format(ip)"
   ]
  },
  {
   "cell_type": "code",
   "execution_count": null,
   "id": "6373781f",
   "metadata": {},
   "outputs": [],
   "source": [
    "resp = requests.get(url)"
   ]
  },
  {
   "cell_type": "code",
   "execution_count": null,
   "id": "e41ed42f",
   "metadata": {},
   "outputs": [],
   "source": [
    "resp"
   ]
  },
  {
   "cell_type": "code",
   "execution_count": null,
   "id": "41270752",
   "metadata": {
    "scrolled": true
   },
   "outputs": [],
   "source": [
    "# resp.json()"
   ]
  },
  {
   "cell_type": "code",
   "execution_count": null,
   "id": "67725bc1",
   "metadata": {
    "scrolled": false
   },
   "outputs": [],
   "source": [
    "df = pd.read_json(resp.json())"
   ]
  },
  {
   "cell_type": "code",
   "execution_count": null,
   "id": "60d7d27b",
   "metadata": {},
   "outputs": [],
   "source": [
    "df"
   ]
  }
 ],
 "metadata": {
  "kernelspec": {
   "display_name": "Python 3 (ipykernel)",
   "language": "python",
   "name": "python3"
  },
  "language_info": {
   "codemirror_mode": {
    "name": "ipython",
    "version": 3
   },
   "file_extension": ".py",
   "mimetype": "text/x-python",
   "name": "python",
   "nbconvert_exporter": "python",
   "pygments_lexer": "ipython3",
   "version": "3.9.12"
  }
 },
 "nbformat": 4,
 "nbformat_minor": 5
}
