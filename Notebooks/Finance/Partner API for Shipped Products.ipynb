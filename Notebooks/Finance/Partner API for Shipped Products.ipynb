{
 "cells": [
  {
   "cell_type": "code",
   "execution_count": null,
   "id": "dc305646",
   "metadata": {},
   "outputs": [],
   "source": [
    "import pandas as pd"
   ]
  },
  {
   "cell_type": "code",
   "execution_count": null,
   "id": "b7358f52",
   "metadata": {},
   "outputs": [],
   "source": [
    "# Additional imporets\n",
    "# to have access to the web service\n",
    "import requests\n",
    "# To transforme the timestamps in datetieme\n",
    "from datetime import datetime"
   ]
  },
  {
   "cell_type": "code",
   "execution_count": null,
   "id": "9620bec6",
   "metadata": {},
   "outputs": [],
   "source": [
    "# Conect to the API\n",
    "# We need to use our local ip. This would be updated manually.\n",
    "# Mac ip\n",
    "# ip = \"192.168.178.35\"\n",
    "# Raspberry pi 3 IP\n",
    "# ip = \"\"\n",
    "# Raspberri pi 4 ip\n",
    "ip = \"192.168.178.189\""
   ]
  },
  {
   "cell_type": "markdown",
   "id": "7575f69e",
   "metadata": {},
   "source": [
    "## Access to the data "
   ]
  },
  {
   "cell_type": "code",
   "execution_count": null,
   "id": "39913342",
   "metadata": {},
   "outputs": [],
   "source": [
    "# URLs to connected with the app-service\n",
    "url = 'http://{}:5010/partner_data'.format(ip)"
   ]
  },
  {
   "cell_type": "code",
   "execution_count": null,
   "id": "68c9e332",
   "metadata": {},
   "outputs": [],
   "source": [
    "# license_plate = 'BW221109149935'\n",
    "license_plate = 'BW221108201539'"
   ]
  },
  {
   "cell_type": "code",
   "execution_count": null,
   "id": "b688b772",
   "metadata": {},
   "outputs": [],
   "source": [
    "resp = requests.get(url,  \n",
    "                    json={'license_plate': license_plate}\n",
    "                   )"
   ]
  },
  {
   "cell_type": "code",
   "execution_count": null,
   "id": "5f07b71c",
   "metadata": {},
   "outputs": [],
   "source": [
    "resp"
   ]
  },
  {
   "cell_type": "code",
   "execution_count": null,
   "id": "754b17e1",
   "metadata": {},
   "outputs": [],
   "source": [
    "resp.json()"
   ]
  }
 ],
 "metadata": {
  "kernelspec": {
   "display_name": "Python 3 (ipykernel)",
   "language": "python",
   "name": "python3"
  },
  "language_info": {
   "codemirror_mode": {
    "name": "ipython",
    "version": 3
   },
   "file_extension": ".py",
   "mimetype": "text/x-python",
   "name": "python",
   "nbconvert_exporter": "python",
   "pygments_lexer": "ipython3",
   "version": "3.9.12"
  }
 },
 "nbformat": 4,
 "nbformat_minor": 5
}
