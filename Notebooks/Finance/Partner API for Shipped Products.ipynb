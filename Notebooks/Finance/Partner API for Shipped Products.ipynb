{
 "cells": [
  {
   "cell_type": "code",
   "execution_count": 1,
   "id": "dc305646",
   "metadata": {},
   "outputs": [],
   "source": [
    "import pandas as pd"
   ]
  },
  {
   "cell_type": "code",
   "execution_count": 2,
   "id": "b7358f52",
   "metadata": {},
   "outputs": [],
   "source": [
    "# Additional imporets\n",
    "# to have access to the web service\n",
    "import requests\n",
    "# To transforme the timestamps in datetieme\n",
    "from datetime import datetime"
   ]
  },
  {
   "cell_type": "code",
   "execution_count": 3,
   "id": "9620bec6",
   "metadata": {},
   "outputs": [],
   "source": [
    "# Conect to the API\n",
    "# We need to use our local ip. This would be updated manually.\n",
    "ip = '192.168.178.35'"
   ]
  },
  {
   "cell_type": "markdown",
   "id": "3c06a6de",
   "metadata": {},
   "source": [
    "## Add secure pass"
   ]
  },
  {
   "cell_type": "code",
   "execution_count": 4,
   "id": "e1f804a6",
   "metadata": {},
   "outputs": [
    {
     "data": {
      "text/plain": [
       "<Response [200]>"
      ]
     },
     "execution_count": 4,
     "metadata": {},
     "output_type": "execute_result"
    }
   ],
   "source": [
    "# URLs to connected with the app-service\n",
    "url_token = 'http://{}:5010/token'.format(ip)\n",
    "# resp = requests.post(url_token)\n",
    "resp = requests.post(url_token, data={'username': 'tgarsa', 'password':'secret'})\n",
    "# resp = requests.post(url_token, data={'username': 'alice', 'password':'secret'})\n",
    "resp"
   ]
  },
  {
   "cell_type": "code",
   "execution_count": 5,
   "id": "de06a201",
   "metadata": {},
   "outputs": [],
   "source": [
    "# Recover the token info\n",
    "token = resp.json()['access_token']\n",
    "token_type = resp.json()['token_type']\n",
    "\n",
    "# Build the header\n",
    "headers = {\"Authorization\": \"{} {}\".format(token_type, token)}\n",
    "# headers"
   ]
  },
  {
   "cell_type": "markdown",
   "id": "7575f69e",
   "metadata": {},
   "source": [
    "## Access to the data "
   ]
  },
  {
   "cell_type": "code",
   "execution_count": 6,
   "id": "39913342",
   "metadata": {},
   "outputs": [],
   "source": [
    "# URLs to connected with the app-service\n",
    "url = 'http://{}:5010/partner_data'.format(ip)"
   ]
  },
  {
   "cell_type": "code",
   "execution_count": 7,
   "id": "68c9e332",
   "metadata": {},
   "outputs": [],
   "source": [
    "# license_plate = 'BW221109149935'\n",
    "license_plate = 'BW221108201539'"
   ]
  },
  {
   "cell_type": "code",
   "execution_count": 8,
   "id": "b688b772",
   "metadata": {},
   "outputs": [],
   "source": [
    "resp = requests.get(url,  \n",
    "                    json={'license_plate': license_plate}, \n",
    "                    headers=headers)"
   ]
  },
  {
   "cell_type": "code",
   "execution_count": 9,
   "id": "5f07b71c",
   "metadata": {},
   "outputs": [
    {
     "data": {
      "text/plain": [
       "<Response [200]>"
      ]
     },
     "execution_count": 9,
     "metadata": {},
     "output_type": "execute_result"
    }
   ],
   "source": [
    "resp"
   ]
  },
  {
   "cell_type": "code",
   "execution_count": 10,
   "id": "754b17e1",
   "metadata": {},
   "outputs": [
    {
     "data": {
      "text/plain": [
       "{'metadata': {'last-update': '2023-08-08T11:59:38.007000'},\n",
       " 'product': {'license_plate': 'BW221108201539',\n",
       "  'sold_price': 14.91,\n",
       "  'transport_cost': 4.0,\n",
       "  'platform_fee': 2.71,\n",
       "  'grading_fee': 17.0,\n",
       "  'buybay_fee': 1.49,\n",
       "  'partner_payout': -10.29}}"
      ]
     },
     "execution_count": 10,
     "metadata": {},
     "output_type": "execute_result"
    }
   ],
   "source": [
    "resp.json()"
   ]
  }
 ],
 "metadata": {
  "kernelspec": {
   "display_name": "Python 3 (ipykernel)",
   "language": "python",
   "name": "python3"
  },
  "language_info": {
   "codemirror_mode": {
    "name": "ipython",
    "version": 3
   },
   "file_extension": ".py",
   "mimetype": "text/x-python",
   "name": "python",
   "nbconvert_exporter": "python",
   "pygments_lexer": "ipython3",
   "version": "3.9.12"
  }
 },
 "nbformat": 4,
 "nbformat_minor": 5
}
